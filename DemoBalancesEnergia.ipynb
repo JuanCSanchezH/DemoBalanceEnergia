{
  "nbformat": 4,
  "nbformat_minor": 0,
  "metadata": {
    "colab": {
      "provenance": []
    },
    "kernelspec": {
      "name": "python3",
      "display_name": "Python 3"
    },
    "language_info": {
      "name": "python"
    }
  },
  "cells": [
    {
      "cell_type": "markdown",
      "source": [
        "# Demo Balance de Energía"
      ],
      "metadata": {
        "id": "HgrjzC8lOXzC"
      }
    },
    {
      "cell_type": "markdown",
      "source": [
        "**Python (Pandas)**\n",
        "*   Simplicidad\n",
        "*   Familiaridad\n",
        "*   Rendimiento para pequeños volumenes\n",
        "*   Bajo costo (open source)\n",
        "\n",
        "**Colab**\n",
        "\n",
        "* Implementa procesos automáticos de respaldo, mediante scripts que sincronicen con Google Drive, además de que permite la mitigación de errores mediante la implementación de notebooks (paso a paso)\n",
        "* Entorno de desarrollo serverless eficiente, entendible y fácil de manipular\n",
        "* Completa integración con python\n",
        "\n",
        "**Escalabilidad**\n",
        "\n",
        "Integración con Dask: computación y procesamiento de datos distribuída (paralización) para medianos volumenes de datos.\n",
        "\n",
        "\n",
        "\n"
      ],
      "metadata": {
        "id": "JXZ3ML-qRKNM"
      }
    },
    {
      "cell_type": "markdown",
      "source": [
        "Importe de librerías:"
      ],
      "metadata": {
        "id": "vHVW8R7TUxMF"
      }
    },
    {
      "cell_type": "code",
      "source": [
        "import requests\n",
        "import json\n",
        "import pandas as pd\n",
        "import numpy as np\n",
        "import re\n",
        "import os ## Librería del SO para cargar y leer archivos"
      ],
      "metadata": {
        "id": "Syl-1ewtEhB8"
      },
      "execution_count": 1,
      "outputs": []
    },
    {
      "cell_type": "markdown",
      "source": [
        "Definición e inicialización de variables necesarias:"
      ],
      "metadata": {
        "id": "jjMGrPTtVBK-"
      }
    },
    {
      "cell_type": "code",
      "source": [
        "fecha_inicio=\"2024-07-09\" ## Para que se pueda modificar la fecha del proceso en caso de que se requiera\n",
        "fecha_fin=\"2024-07-20\"\n",
        "id_archivo_balance_drive=\"1EDzz9Ep9VzHwVrHNy9Z_dL5K8D0r4oKv\" #ID Archivo con errores!!\n",
        "id_archivo_balance_drive_cor=\"1gsiY85tRa5_3QLtjRvEAz403tTgkSLDn\" #ID Archivo sin error\n",
        "api_key_1=\"lbmgOxpdzM9ffbXmvF3UyPhxwEHFf53wFSDk8ddqEQeor9eXetbGiYqlUkKPHIBL\"\n",
        "api_key_2=\"QlgVYk5LeVCWCD6BoNoWFkn1lhtUC3vPuFpWBuNkpRo6R4trrNnyqux6LTTn8I4n\""
      ],
      "metadata": {
        "id": "UWXo2dSRhzy3"
      },
      "execution_count": 2,
      "outputs": []
    },
    {
      "cell_type": "markdown",
      "source": [
        "# Extracción"
      ],
      "metadata": {
        "id": "lhxF7uz4rM42"
      }
    },
    {
      "cell_type": "markdown",
      "source": [
        "**Para procesar el archivo con errores en sus valores:**"
      ],
      "metadata": {
        "id": "9OG1WU1CD9LG"
      }
    },
    {
      "cell_type": "code",
      "source": [
        "download_url = f'https://drive.google.com/uc?export=download&id={id_archivo_balance_drive}'\n",
        "local_file_path = '/tmp/balances3.xlsx'\n",
        "\n",
        "## \"response\" es un objeto que contiene los datos en binario que se desean escribir en el archivo\n",
        "response = requests.get(download_url)\n",
        "with open(local_file_path, 'wb') as file: ## Abre un archivo en modo escritura binaria ('wb'). El gestor (context manager) asegura que el archivo se cierre automáticamente cuando se salga del bloque \"with\"\n",
        "    file.write(response.content) ## Este método escribe datos en binario en el archivo abierto \"file\"."
      ],
      "metadata": {
        "id": "OhwujWIr7nSE"
      },
      "execution_count": null,
      "outputs": []
    },
    {
      "cell_type": "markdown",
      "source": [
        "**Para procesar el archivo sin errores en sus valores:**"
      ],
      "metadata": {
        "id": "NCOaGEv4K8Mt"
      }
    },
    {
      "cell_type": "code",
      "source": [
        "download_url_cor = f'https://drive.google.com/uc?export=download&id={id_archivo_balance_drive_cor}'\n",
        "local_file_path = '/tmp/balances4.xlsx'\n",
        "response = requests.get(download_url_cor)\n",
        "with open(local_file_path, 'wb') as file:\n",
        "    file.write(response.content)"
      ],
      "metadata": {
        "id": "zjMymKKRLENG"
      },
      "execution_count": 3,
      "outputs": []
    },
    {
      "cell_type": "markdown",
      "source": [
        "Capacidad real de generadoras"
      ],
      "metadata": {
        "id": "iNK64mhYVL0D"
      }
    },
    {
      "cell_type": "code",
      "source": [
        "dfArchivoCapacidad = pd.read_excel(local_file_path,engine='openpyxl')\n",
        "dfArchivoCapacidad.head(10)"
      ],
      "metadata": {
        "colab": {
          "base_uri": "https://localhost:8080/",
          "height": 363
        },
        "id": "PDJ8KLlRWX6w",
        "outputId": "f36ff69d-ad8a-42ae-88d3-e8fcddf14663"
      },
      "execution_count": 6,
      "outputs": [
        {
          "output_type": "execute_result",
          "data": {
            "text/plain": [
              "   Unnamed: 0                           Unnamed: 1 Unnamed: 2 Unnamed: 3  \\\n",
              "0         NaN    Programa de Generación por Planta        NaN        NaN   \n",
              "1         NaN  Empresa Generadora ACME S.A. E.S.P.        NaN        NaN   \n",
              "2         NaN             Despacho Real 10/07/2024        NaN        NaN   \n",
              "3         NaN                                  NaN        NaN        NaN   \n",
              "4         NaN                                FECHA     PLANTA  GENERADOR   \n",
              "5         NaN                  2024-07-10 00:00:00  TERMOZIPA          2   \n",
              "6         NaN                  2024-07-10 01:00:00  TERMOZIPA          2   \n",
              "7         NaN                  2024-07-10 02:00:00  TERMOZIPA          2   \n",
              "8         NaN                  2024-07-10 03:00:00  TERMOZIPA          2   \n",
              "9         NaN                  2024-07-10 04:00:00  TERMOZIPA          2   \n",
              "\n",
              "        Unnamed: 4 Unnamed: 5  \n",
              "0              NaN        NaN  \n",
              "1              NaN        NaN  \n",
              "2              NaN        NaN  \n",
              "3              NaN        NaN  \n",
              "4  CAPACIDAD (Kwh)     CODIGO  \n",
              "5            33000       ZPA2  \n",
              "6            33000       ZPA2  \n",
              "7            33000       ZPA2  \n",
              "8            33000       ZPA2  \n",
              "9            20834       ZPA2  "
            ],
            "text/html": [
              "\n",
              "  <div id=\"df-4f17ebb5-f222-48e6-b106-512b66e1013c\" class=\"colab-df-container\">\n",
              "    <div>\n",
              "<style scoped>\n",
              "    .dataframe tbody tr th:only-of-type {\n",
              "        vertical-align: middle;\n",
              "    }\n",
              "\n",
              "    .dataframe tbody tr th {\n",
              "        vertical-align: top;\n",
              "    }\n",
              "\n",
              "    .dataframe thead th {\n",
              "        text-align: right;\n",
              "    }\n",
              "</style>\n",
              "<table border=\"1\" class=\"dataframe\">\n",
              "  <thead>\n",
              "    <tr style=\"text-align: right;\">\n",
              "      <th></th>\n",
              "      <th>Unnamed: 0</th>\n",
              "      <th>Unnamed: 1</th>\n",
              "      <th>Unnamed: 2</th>\n",
              "      <th>Unnamed: 3</th>\n",
              "      <th>Unnamed: 4</th>\n",
              "      <th>Unnamed: 5</th>\n",
              "    </tr>\n",
              "  </thead>\n",
              "  <tbody>\n",
              "    <tr>\n",
              "      <th>0</th>\n",
              "      <td>NaN</td>\n",
              "      <td>Programa de Generación por Planta</td>\n",
              "      <td>NaN</td>\n",
              "      <td>NaN</td>\n",
              "      <td>NaN</td>\n",
              "      <td>NaN</td>\n",
              "    </tr>\n",
              "    <tr>\n",
              "      <th>1</th>\n",
              "      <td>NaN</td>\n",
              "      <td>Empresa Generadora ACME S.A. E.S.P.</td>\n",
              "      <td>NaN</td>\n",
              "      <td>NaN</td>\n",
              "      <td>NaN</td>\n",
              "      <td>NaN</td>\n",
              "    </tr>\n",
              "    <tr>\n",
              "      <th>2</th>\n",
              "      <td>NaN</td>\n",
              "      <td>Despacho Real 10/07/2024</td>\n",
              "      <td>NaN</td>\n",
              "      <td>NaN</td>\n",
              "      <td>NaN</td>\n",
              "      <td>NaN</td>\n",
              "    </tr>\n",
              "    <tr>\n",
              "      <th>3</th>\n",
              "      <td>NaN</td>\n",
              "      <td>NaN</td>\n",
              "      <td>NaN</td>\n",
              "      <td>NaN</td>\n",
              "      <td>NaN</td>\n",
              "      <td>NaN</td>\n",
              "    </tr>\n",
              "    <tr>\n",
              "      <th>4</th>\n",
              "      <td>NaN</td>\n",
              "      <td>FECHA</td>\n",
              "      <td>PLANTA</td>\n",
              "      <td>GENERADOR</td>\n",
              "      <td>CAPACIDAD (Kwh)</td>\n",
              "      <td>CODIGO</td>\n",
              "    </tr>\n",
              "    <tr>\n",
              "      <th>5</th>\n",
              "      <td>NaN</td>\n",
              "      <td>2024-07-10 00:00:00</td>\n",
              "      <td>TERMOZIPA</td>\n",
              "      <td>2</td>\n",
              "      <td>33000</td>\n",
              "      <td>ZPA2</td>\n",
              "    </tr>\n",
              "    <tr>\n",
              "      <th>6</th>\n",
              "      <td>NaN</td>\n",
              "      <td>2024-07-10 01:00:00</td>\n",
              "      <td>TERMOZIPA</td>\n",
              "      <td>2</td>\n",
              "      <td>33000</td>\n",
              "      <td>ZPA2</td>\n",
              "    </tr>\n",
              "    <tr>\n",
              "      <th>7</th>\n",
              "      <td>NaN</td>\n",
              "      <td>2024-07-10 02:00:00</td>\n",
              "      <td>TERMOZIPA</td>\n",
              "      <td>2</td>\n",
              "      <td>33000</td>\n",
              "      <td>ZPA2</td>\n",
              "    </tr>\n",
              "    <tr>\n",
              "      <th>8</th>\n",
              "      <td>NaN</td>\n",
              "      <td>2024-07-10 03:00:00</td>\n",
              "      <td>TERMOZIPA</td>\n",
              "      <td>2</td>\n",
              "      <td>33000</td>\n",
              "      <td>ZPA2</td>\n",
              "    </tr>\n",
              "    <tr>\n",
              "      <th>9</th>\n",
              "      <td>NaN</td>\n",
              "      <td>2024-07-10 04:00:00</td>\n",
              "      <td>TERMOZIPA</td>\n",
              "      <td>2</td>\n",
              "      <td>20834</td>\n",
              "      <td>ZPA2</td>\n",
              "    </tr>\n",
              "  </tbody>\n",
              "</table>\n",
              "</div>\n",
              "    <div class=\"colab-df-buttons\">\n",
              "\n",
              "  <div class=\"colab-df-container\">\n",
              "    <button class=\"colab-df-convert\" onclick=\"convertToInteractive('df-4f17ebb5-f222-48e6-b106-512b66e1013c')\"\n",
              "            title=\"Convert this dataframe to an interactive table.\"\n",
              "            style=\"display:none;\">\n",
              "\n",
              "  <svg xmlns=\"http://www.w3.org/2000/svg\" height=\"24px\" viewBox=\"0 -960 960 960\">\n",
              "    <path d=\"M120-120v-720h720v720H120Zm60-500h600v-160H180v160Zm220 220h160v-160H400v160Zm0 220h160v-160H400v160ZM180-400h160v-160H180v160Zm440 0h160v-160H620v160ZM180-180h160v-160H180v160Zm440 0h160v-160H620v160Z\"/>\n",
              "  </svg>\n",
              "    </button>\n",
              "\n",
              "  <style>\n",
              "    .colab-df-container {\n",
              "      display:flex;\n",
              "      gap: 12px;\n",
              "    }\n",
              "\n",
              "    .colab-df-convert {\n",
              "      background-color: #E8F0FE;\n",
              "      border: none;\n",
              "      border-radius: 50%;\n",
              "      cursor: pointer;\n",
              "      display: none;\n",
              "      fill: #1967D2;\n",
              "      height: 32px;\n",
              "      padding: 0 0 0 0;\n",
              "      width: 32px;\n",
              "    }\n",
              "\n",
              "    .colab-df-convert:hover {\n",
              "      background-color: #E2EBFA;\n",
              "      box-shadow: 0px 1px 2px rgba(60, 64, 67, 0.3), 0px 1px 3px 1px rgba(60, 64, 67, 0.15);\n",
              "      fill: #174EA6;\n",
              "    }\n",
              "\n",
              "    .colab-df-buttons div {\n",
              "      margin-bottom: 4px;\n",
              "    }\n",
              "\n",
              "    [theme=dark] .colab-df-convert {\n",
              "      background-color: #3B4455;\n",
              "      fill: #D2E3FC;\n",
              "    }\n",
              "\n",
              "    [theme=dark] .colab-df-convert:hover {\n",
              "      background-color: #434B5C;\n",
              "      box-shadow: 0px 1px 3px 1px rgba(0, 0, 0, 0.15);\n",
              "      filter: drop-shadow(0px 1px 2px rgba(0, 0, 0, 0.3));\n",
              "      fill: #FFFFFF;\n",
              "    }\n",
              "  </style>\n",
              "\n",
              "    <script>\n",
              "      const buttonEl =\n",
              "        document.querySelector('#df-4f17ebb5-f222-48e6-b106-512b66e1013c button.colab-df-convert');\n",
              "      buttonEl.style.display =\n",
              "        google.colab.kernel.accessAllowed ? 'block' : 'none';\n",
              "\n",
              "      async function convertToInteractive(key) {\n",
              "        const element = document.querySelector('#df-4f17ebb5-f222-48e6-b106-512b66e1013c');\n",
              "        const dataTable =\n",
              "          await google.colab.kernel.invokeFunction('convertToInteractive',\n",
              "                                                    [key], {});\n",
              "        if (!dataTable) return;\n",
              "\n",
              "        const docLinkHtml = 'Like what you see? Visit the ' +\n",
              "          '<a target=\"_blank\" href=https://colab.research.google.com/notebooks/data_table.ipynb>data table notebook</a>'\n",
              "          + ' to learn more about interactive tables.';\n",
              "        element.innerHTML = '';\n",
              "        dataTable['output_type'] = 'display_data';\n",
              "        await google.colab.output.renderOutput(dataTable, element);\n",
              "        const docLink = document.createElement('div');\n",
              "        docLink.innerHTML = docLinkHtml;\n",
              "        element.appendChild(docLink);\n",
              "      }\n",
              "    </script>\n",
              "  </div>\n",
              "\n",
              "\n",
              "<div id=\"df-a700c733-63dc-4517-9634-d40b8667cc09\">\n",
              "  <button class=\"colab-df-quickchart\" onclick=\"quickchart('df-a700c733-63dc-4517-9634-d40b8667cc09')\"\n",
              "            title=\"Suggest charts\"\n",
              "            style=\"display:none;\">\n",
              "\n",
              "<svg xmlns=\"http://www.w3.org/2000/svg\" height=\"24px\"viewBox=\"0 0 24 24\"\n",
              "     width=\"24px\">\n",
              "    <g>\n",
              "        <path d=\"M19 3H5c-1.1 0-2 .9-2 2v14c0 1.1.9 2 2 2h14c1.1 0 2-.9 2-2V5c0-1.1-.9-2-2-2zM9 17H7v-7h2v7zm4 0h-2V7h2v10zm4 0h-2v-4h2v4z\"/>\n",
              "    </g>\n",
              "</svg>\n",
              "  </button>\n",
              "\n",
              "<style>\n",
              "  .colab-df-quickchart {\n",
              "      --bg-color: #E8F0FE;\n",
              "      --fill-color: #1967D2;\n",
              "      --hover-bg-color: #E2EBFA;\n",
              "      --hover-fill-color: #174EA6;\n",
              "      --disabled-fill-color: #AAA;\n",
              "      --disabled-bg-color: #DDD;\n",
              "  }\n",
              "\n",
              "  [theme=dark] .colab-df-quickchart {\n",
              "      --bg-color: #3B4455;\n",
              "      --fill-color: #D2E3FC;\n",
              "      --hover-bg-color: #434B5C;\n",
              "      --hover-fill-color: #FFFFFF;\n",
              "      --disabled-bg-color: #3B4455;\n",
              "      --disabled-fill-color: #666;\n",
              "  }\n",
              "\n",
              "  .colab-df-quickchart {\n",
              "    background-color: var(--bg-color);\n",
              "    border: none;\n",
              "    border-radius: 50%;\n",
              "    cursor: pointer;\n",
              "    display: none;\n",
              "    fill: var(--fill-color);\n",
              "    height: 32px;\n",
              "    padding: 0;\n",
              "    width: 32px;\n",
              "  }\n",
              "\n",
              "  .colab-df-quickchart:hover {\n",
              "    background-color: var(--hover-bg-color);\n",
              "    box-shadow: 0 1px 2px rgba(60, 64, 67, 0.3), 0 1px 3px 1px rgba(60, 64, 67, 0.15);\n",
              "    fill: var(--button-hover-fill-color);\n",
              "  }\n",
              "\n",
              "  .colab-df-quickchart-complete:disabled,\n",
              "  .colab-df-quickchart-complete:disabled:hover {\n",
              "    background-color: var(--disabled-bg-color);\n",
              "    fill: var(--disabled-fill-color);\n",
              "    box-shadow: none;\n",
              "  }\n",
              "\n",
              "  .colab-df-spinner {\n",
              "    border: 2px solid var(--fill-color);\n",
              "    border-color: transparent;\n",
              "    border-bottom-color: var(--fill-color);\n",
              "    animation:\n",
              "      spin 1s steps(1) infinite;\n",
              "  }\n",
              "\n",
              "  @keyframes spin {\n",
              "    0% {\n",
              "      border-color: transparent;\n",
              "      border-bottom-color: var(--fill-color);\n",
              "      border-left-color: var(--fill-color);\n",
              "    }\n",
              "    20% {\n",
              "      border-color: transparent;\n",
              "      border-left-color: var(--fill-color);\n",
              "      border-top-color: var(--fill-color);\n",
              "    }\n",
              "    30% {\n",
              "      border-color: transparent;\n",
              "      border-left-color: var(--fill-color);\n",
              "      border-top-color: var(--fill-color);\n",
              "      border-right-color: var(--fill-color);\n",
              "    }\n",
              "    40% {\n",
              "      border-color: transparent;\n",
              "      border-right-color: var(--fill-color);\n",
              "      border-top-color: var(--fill-color);\n",
              "    }\n",
              "    60% {\n",
              "      border-color: transparent;\n",
              "      border-right-color: var(--fill-color);\n",
              "    }\n",
              "    80% {\n",
              "      border-color: transparent;\n",
              "      border-right-color: var(--fill-color);\n",
              "      border-bottom-color: var(--fill-color);\n",
              "    }\n",
              "    90% {\n",
              "      border-color: transparent;\n",
              "      border-bottom-color: var(--fill-color);\n",
              "    }\n",
              "  }\n",
              "</style>\n",
              "\n",
              "  <script>\n",
              "    async function quickchart(key) {\n",
              "      const quickchartButtonEl =\n",
              "        document.querySelector('#' + key + ' button');\n",
              "      quickchartButtonEl.disabled = true;  // To prevent multiple clicks.\n",
              "      quickchartButtonEl.classList.add('colab-df-spinner');\n",
              "      try {\n",
              "        const charts = await google.colab.kernel.invokeFunction(\n",
              "            'suggestCharts', [key], {});\n",
              "      } catch (error) {\n",
              "        console.error('Error during call to suggestCharts:', error);\n",
              "      }\n",
              "      quickchartButtonEl.classList.remove('colab-df-spinner');\n",
              "      quickchartButtonEl.classList.add('colab-df-quickchart-complete');\n",
              "    }\n",
              "    (() => {\n",
              "      let quickchartButtonEl =\n",
              "        document.querySelector('#df-a700c733-63dc-4517-9634-d40b8667cc09 button');\n",
              "      quickchartButtonEl.style.display =\n",
              "        google.colab.kernel.accessAllowed ? 'block' : 'none';\n",
              "    })();\n",
              "  </script>\n",
              "</div>\n",
              "\n",
              "    </div>\n",
              "  </div>\n"
            ],
            "application/vnd.google.colaboratory.intrinsic+json": {
              "type": "dataframe",
              "variable_name": "dfArchivoCapacidad",
              "summary": "{\n  \"name\": \"dfArchivoCapacidad\",\n  \"rows\": 149,\n  \"fields\": [\n    {\n      \"column\": \"Unnamed: 0\",\n      \"properties\": {\n        \"dtype\": \"number\",\n        \"std\": null,\n        \"min\": null,\n        \"max\": null,\n        \"num_unique_values\": 0,\n        \"samples\": [],\n        \"semantic_type\": \"\",\n        \"description\": \"\"\n      }\n    },\n    {\n      \"column\": \"Unnamed: 1\",\n      \"properties\": {\n        \"dtype\": \"category\",\n        \"num_unique_values\": 28,\n        \"samples\": [],\n        \"semantic_type\": \"\",\n        \"description\": \"\"\n      }\n    },\n    {\n      \"column\": \"Unnamed: 2\",\n      \"properties\": {\n        \"dtype\": \"category\",\n        \"num_unique_values\": 4,\n        \"samples\": [],\n        \"semantic_type\": \"\",\n        \"description\": \"\"\n      }\n    },\n    {\n      \"column\": \"Unnamed: 3\",\n      \"properties\": {\n        \"dtype\": \"category\",\n        \"num_unique_values\": 6,\n        \"samples\": [],\n        \"semantic_type\": \"\",\n        \"description\": \"\"\n      }\n    },\n    {\n      \"column\": \"Unnamed: 4\",\n      \"properties\": {\n        \"dtype\": \"string\",\n        \"num_unique_values\": 93,\n        \"samples\": [],\n        \"semantic_type\": \"\",\n        \"description\": \"\"\n      }\n    },\n    {\n      \"column\": \"Unnamed: 5\",\n      \"properties\": {\n        \"dtype\": \"category\",\n        \"num_unique_values\": 7,\n        \"samples\": [],\n        \"semantic_type\": \"\",\n        \"description\": \"\"\n      }\n    }\n  ]\n}"
            }
          },
          "metadata": {},
          "execution_count": 6
        }
      ]
    },
    {
      "cell_type": "markdown",
      "source": [],
      "metadata": {
        "id": "JzVuwJg3VUQG"
      }
    },
    {
      "cell_type": "code",
      "source": [
        "## Para obtener desde el simem los precios. el datasetId al final de la url hay que buscarlo en simem Precios\n",
        "url = f\"https://www.simem.co/backend-files/api/PublicData?startDate={fecha_inicio}&endDate={fecha_fin}&datasetId=96D56E\"\n",
        "\n",
        "response = requests.get(url)\n",
        "json_precios = json.loads(response.text)"
      ],
      "metadata": {
        "id": "8wcKoJ9wJXob"
      },
      "execution_count": 4,
      "outputs": []
    },
    {
      "cell_type": "code",
      "source": [
        "dfPreciosBolsa = pd.DataFrame(json_precios['result']['records'])\n",
        "print(dfPreciosBolsa)\n"
      ],
      "metadata": {
        "colab": {
          "base_uri": "https://localhost:8080/"
        },
        "id": "hWb2OfFmUkVo",
        "outputId": "b5e8d628-5f56-472b-9ab8-d754b1158fa9"
      },
      "execution_count": 5,
      "outputs": [
        {
          "output_type": "stream",
          "name": "stdout",
          "text": [
            "   CodigoVariable       Fecha CodigoDuracion UnidadMedida Version     Valor\n",
            "0       PPBOGReal  2024-07-20            P1D      COP/kWh     TXF  321.5839\n",
            "1            PPBO  2024-07-20            P1D      COP/kWh     TXF  322.3219\n",
            "2       PPBOGReal  2024-07-20            P1D      COP/kWh     TX2  315.5043\n",
            "3            PPBO  2024-07-20            P1D      COP/kWh     TX2  316.2516\n",
            "4       PPBOGReal  2024-07-20            P1D      COP/kWh     TX1  315.4548\n",
            "..            ...         ...            ...          ...     ...       ...\n",
            "79           PPBO  2024-07-09            P1D      COP/kWh     TXR  243.7167\n",
            "80      PPBOGReal  2024-07-09            P1D      COP/kWh     TXR  254.6227\n",
            "81           PPBO  2024-07-09            P1D      COP/kWh     TX2  237.6496\n",
            "82      PPBOGReal  2024-07-09            P1D      COP/kWh     TXF  254.6253\n",
            "83           PPBO  2024-07-09            P1D      COP/kWh     TXF  243.7194\n",
            "\n",
            "[84 rows x 6 columns]\n"
          ]
        }
      ]
    },
    {
      "cell_type": "code",
      "source": [
        "## Para obtener desde SIMEM el compromiso o los despachos por unidad.\n",
        "url = f\"https://www.simem.co/backend-files/api/PublicData?startdate={fecha_inicio}&enddate={fecha_fin}&datasetId=ff027b\"\n",
        "response = requests.get(url)\n",
        "json_precios = json.loads(response.text)"
      ],
      "metadata": {
        "id": "VWZp9DSKBXEf"
      },
      "execution_count": 7,
      "outputs": []
    },
    {
      "cell_type": "code",
      "source": [
        "dfDespachosUnidades = pd.DataFrame(json_precios['result']['records'])\n",
        "print(dfDespachosUnidades.head(10))"
      ],
      "metadata": {
        "colab": {
          "base_uri": "https://localhost:8080/"
        },
        "id": "m9YllQ0KW1kU",
        "outputId": "dcb6623a-ebf0-4f8f-fe01-c9708d459a3e"
      },
      "execution_count": 8,
      "outputs": [
        {
          "output_type": "stream",
          "name": "stdout",
          "text": [
            "             FechaHora CodigoDuracion CodigoPlanta     Valor\n",
            "0  2024-07-20 23:00:00           PT1H         MND1     420.0\n",
            "1  2024-07-20 23:00:00           PT1H         MNC1    1200.0\n",
            "2  2024-07-20 23:00:00           PT1H         MIR1    2470.0\n",
            "3  2024-07-20 23:00:00           PT1H         MATA       0.0\n",
            "4  2024-07-20 23:00:00           PT1H         LTSJ  204000.0\n",
            "5  2024-07-20 23:00:00           PT1H         LPLO     950.0\n",
            "6  2024-07-20 23:00:00           PT1H         LMR1       0.0\n",
            "7  2024-07-20 23:00:00           PT1H         LCS1       0.0\n",
            "8  2024-07-20 23:00:00           PT1H         LBR1    2000.0\n",
            "9  2024-07-20 23:00:00           PT1H         JPR1       0.0\n"
          ]
        }
      ]
    },
    {
      "cell_type": "markdown",
      "source": [
        "# Transformación"
      ],
      "metadata": {
        "id": "Fqh1p9L3rZd9"
      }
    },
    {
      "cell_type": "markdown",
      "source": [
        "Ahora, es necesario filtrar la columna código de planta en el DF de despachos para que permanezcan solo los registros que contengan ZPA2, ZPA3, ZPA4, ZPA5, GVIO, QUI1, CHVR"
      ],
      "metadata": {
        "id": "PrRRZ2YNdmvh"
      }
    },
    {
      "cell_type": "code",
      "source": [
        "listaPlantas = ['ZPA2','ZPA3','ZPA4','ZPA5','GVIO','QUI1']"
      ],
      "metadata": {
        "id": "QnlqdceGp9NW"
      },
      "execution_count": 9,
      "outputs": []
    },
    {
      "cell_type": "code",
      "source": [
        "#Función para filtrar un dataframe por código planta.\n",
        "#Recibe el dataframe implicado y una lista que contiene los código planta que se quiere\n",
        "#Retorna el dataframe con los registros cuyo valor es True (filtro interno con el isin)\n",
        "\n",
        "def filtroCodigoPlanta(df, codigos):\n",
        "    return df[df['CodigoPlanta'].isin(codigos)]\n"
      ],
      "metadata": {
        "id": "qN1zEwfHeAV3"
      },
      "execution_count": 10,
      "outputs": []
    },
    {
      "cell_type": "code",
      "source": [
        "dfCapacidadDespachosAcme = filtroCodigoPlanta(dfDespachosUnidades, listaPlantas)\n",
        "\n",
        "# Resetear los índices del dataframe\n",
        "dfCapacidadDespachosAcme = dfCapacidadDespachosAcme.reset_index(drop=True)\n",
        "\n",
        "print(dfCapacidadDespachosAcme)"
      ],
      "metadata": {
        "colab": {
          "base_uri": "https://localhost:8080/"
        },
        "id": "m22ZpnGkohR1",
        "outputId": "ad343efe-4922-4dd6-95fa-a04b7045d2a0"
      },
      "execution_count": 11,
      "outputs": [
        {
          "output_type": "stream",
          "name": "stdout",
          "text": [
            "                FechaHora CodigoDuracion CodigoPlanta      Valor\n",
            "0     2024-07-20 23:00:00           PT1H         ZPA5    31000.0\n",
            "1     2024-07-20 23:00:00           PT1H         ZPA4        0.0\n",
            "2     2024-07-20 23:00:00           PT1H         ZPA3        0.0\n",
            "3     2024-07-20 23:00:00           PT1H         ZPA2        0.0\n",
            "4     2024-07-20 22:00:00           PT1H         GVIO  1220000.0\n",
            "...                   ...            ...          ...        ...\n",
            "1723  2024-07-09 03:00:00           PT1H         ZPA5    31000.0\n",
            "1724  2024-07-09 02:00:00           PT1H         ZPA2    17000.0\n",
            "1725  2024-07-09 02:00:00           PT1H         ZPA3    31000.0\n",
            "1726  2024-07-09 02:00:00           PT1H         ZPA4    31000.0\n",
            "1727  2024-07-09 02:00:00           PT1H         ZPA5    31000.0\n",
            "\n",
            "[1728 rows x 4 columns]\n"
          ]
        }
      ]
    },
    {
      "cell_type": "markdown",
      "source": [
        "A continuación se renombran las columnas del dataframe de la capacidad y se nomalizan los datos a tipo string"
      ],
      "metadata": {
        "id": "uS2JUTU0AMFM"
      }
    },
    {
      "cell_type": "code",
      "source": [
        "# Renombramiento de columnas\n",
        "colRenom = {'Unnamed: 0':'Useless',\n",
        "            'Unnamed: 1':'Fecha',\n",
        "            'Unnamed: 2':'Planta',\n",
        "            'Unnamed: 3':'Generador',\n",
        "            'Unnamed: 4':'Capacidad',\n",
        "            'Unnamed: 5':'Codigo'}\n",
        "\n",
        "dfArchivoCapacidad = dfArchivoCapacidad.rename(columns=colRenom).astype(str)\n",
        "print(dfArchivoCapacidad.head(10))"
      ],
      "metadata": {
        "id": "j0HlPQP31RuS",
        "colab": {
          "base_uri": "https://localhost:8080/"
        },
        "outputId": "f063854b-3259-4e0b-9a5a-1958e9f871f7",
        "collapsed": true
      },
      "execution_count": 12,
      "outputs": [
        {
          "output_type": "stream",
          "name": "stdout",
          "text": [
            "  Useless                                Fecha     Planta  Generador  \\\n",
            "0     nan    Programa de Generación por Planta        nan        nan   \n",
            "1     nan  Empresa Generadora ACME S.A. E.S.P.        nan        nan   \n",
            "2     nan             Despacho Real 10/07/2024        nan        nan   \n",
            "3     nan                                  nan        nan        nan   \n",
            "4     nan                                FECHA     PLANTA  GENERADOR   \n",
            "5     nan                  2024-07-10 00:00:00  TERMOZIPA          2   \n",
            "6     nan                  2024-07-10 01:00:00  TERMOZIPA          2   \n",
            "7     nan                  2024-07-10 02:00:00  TERMOZIPA          2   \n",
            "8     nan                  2024-07-10 03:00:00  TERMOZIPA          2   \n",
            "9     nan                  2024-07-10 04:00:00  TERMOZIPA          2   \n",
            "\n",
            "         Capacidad  Codigo  \n",
            "0              nan     nan  \n",
            "1              nan     nan  \n",
            "2              nan     nan  \n",
            "3              nan     nan  \n",
            "4  CAPACIDAD (Kwh)  CODIGO  \n",
            "5            33000    ZPA2  \n",
            "6            33000    ZPA2  \n",
            "7            33000    ZPA2  \n",
            "8            33000    ZPA2  \n",
            "9            20834    ZPA2  \n"
          ]
        }
      ]
    },
    {
      "cell_type": "markdown",
      "source": [
        "Se elimina la información innecesaria del archivo de capacidad real"
      ],
      "metadata": {
        "id": "kiHMjbvhsxbE"
      }
    },
    {
      "cell_type": "code",
      "source": [
        "# Eliminar filas innecesarias antes de la fila 4 (donde están los encabezados reales)\n",
        "dfArchivoCapacidad = dfArchivoCapacidad.drop([0, 1, 2, 3, 4])\n",
        "\n",
        "# Eliminar la columna 'Useless' que no es necesaria\n",
        "dfArchivoCapacidad = dfArchivoCapacidad.drop(columns=['Useless'])\n",
        "\n",
        "# Resetear los índices del dataframe\n",
        "dfArchivoCapacidad = dfArchivoCapacidad.reset_index(drop=True)\n",
        "\n",
        "# Mostrar el dataframe limpio\n",
        "print(dfArchivoCapacidad)"
      ],
      "metadata": {
        "colab": {
          "base_uri": "https://localhost:8080/"
        },
        "id": "JYPC4IBLCY3A",
        "outputId": "1717a704-0260-49d6-b054-4414fc311944"
      },
      "execution_count": 13,
      "outputs": [
        {
          "output_type": "stream",
          "name": "stdout",
          "text": [
            "                   Fecha     Planta Generador Capacidad Codigo\n",
            "0    2024-07-10 00:00:00  TERMOZIPA         2     33000   ZPA2\n",
            "1    2024-07-10 01:00:00  TERMOZIPA         2     33000   ZPA2\n",
            "2    2024-07-10 02:00:00  TERMOZIPA         2     33000   ZPA2\n",
            "3    2024-07-10 03:00:00  TERMOZIPA         2     33000   ZPA2\n",
            "4    2024-07-10 04:00:00  TERMOZIPA         2     20834   ZPA2\n",
            "..                   ...        ...       ...       ...    ...\n",
            "139  2024-07-10 19:00:00     QUIMBO         1    284650   QUI1\n",
            "140  2024-07-10 20:00:00     QUIMBO         1    276992   QUI1\n",
            "141  2024-07-10 21:00:00     QUIMBO         1    340000   QUI1\n",
            "142  2024-07-10 22:00:00     QUIMBO         1    340000   QUI1\n",
            "143  2024-07-10 23:00:00     QUIMBO         1    340000   QUI1\n",
            "\n",
            "[144 rows x 5 columns]\n"
          ]
        }
      ]
    },
    {
      "cell_type": "markdown",
      "source": [
        "Se hace validación de formatos y verificación de los valores contenidos en el dataframe de la capacidad real de las generadoras."
      ],
      "metadata": {
        "id": "s0_skWKrruXp"
      }
    },
    {
      "cell_type": "code",
      "source": [
        "def validar_fecha(fecha):\n",
        "    patron = r'^\\d{4}-\\d{2}-\\d{2} \\d{2}:\\d{2}:\\d{2}$'\n",
        "    return bool(re.match(patron, fecha))\n",
        "\n",
        "def validar_generador(generador):\n",
        "    try:\n",
        "        int(generador)\n",
        "        return True\n",
        "    except ValueError:\n",
        "        return False\n",
        "\n",
        "def validar_capacidad(capacidad):\n",
        "    try:\n",
        "        int(capacidad)\n",
        "        if int(capacidad) > 0: return True\n",
        "        else: return False\n",
        "    except ValueError:\n",
        "        return False\n",
        "\n",
        "\n",
        "\n",
        "# Se aplican las funciones de validación a los valores de las columnas correspondientes\n",
        "\n",
        "dfArchivoCapacidad['Fecha_valida'] = dfArchivoCapacidad['Fecha'].apply(validar_fecha)\n",
        "dfArchivoCapacidad['Generador_valido'] = dfArchivoCapacidad['Generador'].apply(validar_generador)\n",
        "dfArchivoCapacidad['Capacidad_valida'] = dfArchivoCapacidad['Capacidad'].apply(validar_capacidad)\n",
        "\n",
        "# Se filtran las filas que no cumplen con el formato de fecha y las condiciones del generador\n",
        "fechas_invalidas = dfArchivoCapacidad[~dfArchivoCapacidad['Fecha_valida']]\n",
        "generadores_invalidos = dfArchivoCapacidad[~dfArchivoCapacidad['Generador_valido']]\n",
        "capacidades_invalidas = dfArchivoCapacidad[~dfArchivoCapacidad['Capacidad_valida']]\n",
        "\n",
        "# Captura de error y reporte al usuario\n",
        "if not fechas_invalidas.empty:\n",
        "    print(\"Fechas con formato incorrecto. Por favor revisar el archivo\")\n",
        "    print(fechas_invalidas)\n",
        "\n",
        "elif not generadores_invalidos.empty:\n",
        "    print(\"Generadores con formato incorrecto. Por favor revisar el archivo\")\n",
        "    print(generadores_invalidos)\n",
        "\n",
        "elif not capacidades_invalidas.empty:\n",
        "    print(\"Capacidades invalidas. Por favor revisar el archivo\")\n",
        "    print(capacidades_invalidas)\n",
        "\n",
        "else:\n",
        "\n",
        "    # Se filtran las filas que cumplen con todas las validaciones\n",
        "    df_validado = dfArchivoCapacidad[(dfArchivoCapacidad['Fecha_valida']) &\n",
        "                                    (dfArchivoCapacidad['Generador_valido']) &\n",
        "                                    (dfArchivoCapacidad['Fecha'] >= fecha_inicio) &\n",
        "                                    (dfArchivoCapacidad['Fecha'] <= fecha_fin)]\n",
        "\n",
        "    # Se procede a dividir la columna Fecha y crear el dataframe limpio\n",
        "    df_validado['Año'] = pd.to_datetime(dfArchivoCapacidad['Fecha']).dt.year\n",
        "    df_validado['Mes'] = pd.to_datetime(dfArchivoCapacidad['Fecha']).dt.month\n",
        "    df_validado['Día'] = pd.to_datetime(dfArchivoCapacidad['Fecha']).dt.day\n",
        "    df_validado['Hora'] = pd.to_datetime(dfArchivoCapacidad['Fecha']).dt.hour\n",
        "\n",
        "    # Se eliminan las columnas de validación\n",
        "    df_validado = df_validado.drop(columns=['Fecha_valida', 'Generador_valido'])\n",
        "\n",
        "    # Selección de las columnas necesarias\n",
        "    dfArchivoCapacidadLimpio = df_validado[['Año', 'Mes', 'Día', 'Hora', 'Codigo', 'Capacidad']]\n",
        "\n",
        "    print(dfArchivoCapacidadLimpio)"
      ],
      "metadata": {
        "colab": {
          "base_uri": "https://localhost:8080/"
        },
        "id": "JM34PHvE8jBf",
        "outputId": "dfacea8d-60c3-497d-906f-674a482034bd"
      },
      "execution_count": 14,
      "outputs": [
        {
          "output_type": "stream",
          "name": "stdout",
          "text": [
            "      Año  Mes  Día  Hora Codigo Capacidad\n",
            "0    2024    7   10     0   ZPA2     33000\n",
            "1    2024    7   10     1   ZPA2     33000\n",
            "2    2024    7   10     2   ZPA2     33000\n",
            "3    2024    7   10     3   ZPA2     33000\n",
            "4    2024    7   10     4   ZPA2     20834\n",
            "..    ...  ...  ...   ...    ...       ...\n",
            "139  2024    7   10    19   QUI1    284650\n",
            "140  2024    7   10    20   QUI1    276992\n",
            "141  2024    7   10    21   QUI1    340000\n",
            "142  2024    7   10    22   QUI1    340000\n",
            "143  2024    7   10    23   QUI1    340000\n",
            "\n",
            "[144 rows x 6 columns]\n"
          ]
        }
      ]
    },
    {
      "cell_type": "markdown",
      "source": [
        "Separación de la fecha, renombramiento y extracción de las columnas necesarias en el dataframe de la capacidad que XM solicita"
      ],
      "metadata": {
        "id": "NZ4OJom8sUv0"
      }
    },
    {
      "cell_type": "code",
      "source": [
        "dfCapacidadDespachosAcme['dia_despacho'] = pd.to_datetime(dfCapacidadDespachosAcme['FechaHora']).dt.day\n",
        "dfCapacidadDespachosAcme['mes_despacho'] = pd.to_datetime(dfCapacidadDespachosAcme['FechaHora']).dt.month\n",
        "dfCapacidadDespachosAcme['anio_despacho'] = pd.to_datetime(dfCapacidadDespachosAcme['FechaHora']).dt.year\n",
        "dfCapacidadDespachosAcme['hora_despacho'] = pd.to_datetime(dfCapacidadDespachosAcme['FechaHora']).dt.hour\n",
        "\n",
        "dfCapacidadDespachosAcme = dfCapacidadDespachosAcme.rename(columns={'Valor':'capacidad', 'CodigoPlanta':'codigo'})\n",
        "dfDespachosAcmeTransformado = dfCapacidadDespachosAcme[['dia_despacho', 'mes_despacho', 'anio_despacho', 'hora_despacho', 'capacidad', 'codigo']]\n",
        "\n",
        "\n",
        "print(dfDespachosAcmeTransformado)"
      ],
      "metadata": {
        "colab": {
          "base_uri": "https://localhost:8080/"
        },
        "id": "Mprwvk-7nCVX",
        "outputId": "09db137f-d67e-4b46-b50c-a3a9f9bb8940"
      },
      "execution_count": 15,
      "outputs": [
        {
          "output_type": "stream",
          "name": "stdout",
          "text": [
            "      dia_despacho  mes_despacho  anio_despacho  hora_despacho  capacidad  \\\n",
            "0               20             7           2024             23    31000.0   \n",
            "1               20             7           2024             23        0.0   \n",
            "2               20             7           2024             23        0.0   \n",
            "3               20             7           2024             23        0.0   \n",
            "4               20             7           2024             22  1220000.0   \n",
            "...            ...           ...            ...            ...        ...   \n",
            "1723             9             7           2024              3    31000.0   \n",
            "1724             9             7           2024              2    17000.0   \n",
            "1725             9             7           2024              2    31000.0   \n",
            "1726             9             7           2024              2    31000.0   \n",
            "1727             9             7           2024              2    31000.0   \n",
            "\n",
            "     codigo  \n",
            "0      ZPA5  \n",
            "1      ZPA4  \n",
            "2      ZPA3  \n",
            "3      ZPA2  \n",
            "4      GVIO  \n",
            "...     ...  \n",
            "1723   ZPA5  \n",
            "1724   ZPA2  \n",
            "1725   ZPA3  \n",
            "1726   ZPA4  \n",
            "1727   ZPA5  \n",
            "\n",
            "[1728 rows x 6 columns]\n"
          ]
        }
      ]
    },
    {
      "cell_type": "markdown",
      "source": [
        "Cálculo del balance de energía"
      ],
      "metadata": {
        "id": "egKMxmVPtCgD"
      }
    },
    {
      "cell_type": "code",
      "source": [
        "# Une los DataFrames por las columnas especificadas\n",
        "dfFusionado = pd.merge(dfArchivoCapacidadLimpio, dfDespachosAcmeTransformado,\n",
        "                    left_on=['Codigo', 'Año', 'Mes', 'Día', 'Hora'],\n",
        "                    right_on=['codigo', 'anio_despacho', 'mes_despacho', 'dia_despacho', 'hora_despacho'])\n",
        "\n",
        "# Calcular el balance disponible horario\n",
        "dfFusionado['balance_disponible_horario'] = dfFusionado['Capacidad'].astype(int) - dfFusionado['capacidad'].astype(int)\n",
        "\n",
        "# Agrupa, calcula la suma y resetea el index\n",
        "dfBalanceConsolidado = dfFusionado.groupby(['Año', 'Mes', 'Día', 'Codigo'])['balance_disponible_horario'].sum().reset_index()\n",
        "dfBalanceConsolidado.rename(columns={'balance_disponible_horario': 'consolidado_planta'}, inplace=True)\n",
        "\n",
        "print(dfBalanceConsolidado)"
      ],
      "metadata": {
        "colab": {
          "base_uri": "https://localhost:8080/"
        },
        "id": "X50K8PoUtLmN",
        "outputId": "bb8857da-edef-4545-b3a5-a61d2ec291ca"
      },
      "execution_count": 16,
      "outputs": [
        {
          "output_type": "stream",
          "name": "stdout",
          "text": [
            "    Año  Mes  Día Codigo  consolidado_planta\n",
            "0  2024    7   10   GVIO            11506280\n",
            "1  2024    7   10   QUI1             3607414\n",
            "2  2024    7   10   ZPA2              201706\n",
            "3  2024    7   10   ZPA3             -280652\n",
            "4  2024    7   10   ZPA4             -203312\n",
            "5  2024    7   10   ZPA5             -362060\n"
          ]
        }
      ]
    },
    {
      "cell_type": "markdown",
      "source": [
        "Cálculo del precio del balance y se agrega la columna de la operación a realizar según el resultado"
      ],
      "metadata": {
        "id": "4RLk8BKl3dUy"
      }
    },
    {
      "cell_type": "code",
      "source": [
        "# Filtra los precios de bolsa por las condiciones especificadas\n",
        "dfPreciosFiltrados = dfPreciosBolsa[(dfPreciosBolsa['CodigoVariable'] == 'PPBOGReal') & (dfPreciosBolsa['Version'] == 'TXR')]\n",
        "\n",
        "# Crea columnas de año, mes y día en dfPreciosFiltrados\n",
        "dfPreciosFiltrados['Año'] = pd.to_datetime(dfPreciosFiltrados['Fecha']).dt.year\n",
        "dfPreciosFiltrados['Mes'] = pd.to_datetime(dfPreciosFiltrados['Fecha']).dt.month\n",
        "dfPreciosFiltrados['Día'] = pd.to_datetime(dfPreciosFiltrados['Fecha']).dt.day\n",
        "\n",
        "# Une los DataFrames por las columnas año, mes y dia\n",
        "dfUnido = pd.merge(dfBalanceConsolidado, dfPreciosFiltrados, on=['Año', 'Mes', 'Día'], how='inner')\n",
        "\n",
        "# Calcular Compromisos_MCOP\n",
        "dfUnido['Compromisos_MCOP'] = (dfUnido['consolidado_planta'] * dfUnido['Valor']) / 1000\n",
        "\n",
        "# Seleccionar las columnas deseadas\n",
        "dfReporteCompraVentaEnergiaAcme = dfUnido[['Año', 'Mes', 'Día', 'Codigo', 'consolidado_planta', 'Compromisos_MCOP']]\n",
        "\n",
        "# Crea la nueva columna de Operación\n",
        "# Si los compromisos son menores a 0, hay que comprar energía\n",
        "dfReporteCompraVentaEnergiaAcme['Operacion'] = np.where(dfReporteCompraVentaEnergiaAcme['Compromisos_MCOP'] < 0, 'Comprar', 'Vender')\n",
        "\n",
        "dfReporteCompraVentaEnergiaAcme.rename(columns={'Año': 'Anio', 'Día': 'Dia'}, inplace=True)\n",
        "\n",
        "print(dfReporteCompraVentaEnergiaAcme)\n"
      ],
      "metadata": {
        "colab": {
          "base_uri": "https://localhost:8080/"
        },
        "id": "gWE8icyS3gV6",
        "outputId": "f76ee2e1-38e5-4857-99a0-fd49ea290913"
      },
      "execution_count": 17,
      "outputs": [
        {
          "output_type": "stream",
          "name": "stdout",
          "text": [
            "   Anio  Mes  Dia Codigo  consolidado_planta  Compromisos_MCOP Operacion\n",
            "0  2024    7   10   GVIO            11506280      2.528576e+06    Vender\n",
            "1  2024    7   10   QUI1             3607414      7.927516e+05    Vender\n",
            "2  2024    7   10   ZPA2              201706      4.432614e+04    Vender\n",
            "3  2024    7   10   ZPA3             -280652     -6.167502e+04   Comprar\n",
            "4  2024    7   10   ZPA4             -203312     -4.467907e+04   Comprar\n",
            "5  2024    7   10   ZPA5             -362060     -7.956493e+04   Comprar\n"
          ]
        },
        {
          "output_type": "stream",
          "name": "stderr",
          "text": [
            "<ipython-input-17-3e4a7e0246ae>:5: SettingWithCopyWarning: \n",
            "A value is trying to be set on a copy of a slice from a DataFrame.\n",
            "Try using .loc[row_indexer,col_indexer] = value instead\n",
            "\n",
            "See the caveats in the documentation: https://pandas.pydata.org/pandas-docs/stable/user_guide/indexing.html#returning-a-view-versus-a-copy\n",
            "  dfPreciosFiltrados['Año'] = pd.to_datetime(dfPreciosFiltrados['Fecha']).dt.year\n",
            "<ipython-input-17-3e4a7e0246ae>:6: SettingWithCopyWarning: \n",
            "A value is trying to be set on a copy of a slice from a DataFrame.\n",
            "Try using .loc[row_indexer,col_indexer] = value instead\n",
            "\n",
            "See the caveats in the documentation: https://pandas.pydata.org/pandas-docs/stable/user_guide/indexing.html#returning-a-view-versus-a-copy\n",
            "  dfPreciosFiltrados['Mes'] = pd.to_datetime(dfPreciosFiltrados['Fecha']).dt.month\n",
            "<ipython-input-17-3e4a7e0246ae>:7: SettingWithCopyWarning: \n",
            "A value is trying to be set on a copy of a slice from a DataFrame.\n",
            "Try using .loc[row_indexer,col_indexer] = value instead\n",
            "\n",
            "See the caveats in the documentation: https://pandas.pydata.org/pandas-docs/stable/user_guide/indexing.html#returning-a-view-versus-a-copy\n",
            "  dfPreciosFiltrados['Día'] = pd.to_datetime(dfPreciosFiltrados['Fecha']).dt.day\n",
            "<ipython-input-17-3e4a7e0246ae>:20: SettingWithCopyWarning: \n",
            "A value is trying to be set on a copy of a slice from a DataFrame.\n",
            "Try using .loc[row_indexer,col_indexer] = value instead\n",
            "\n",
            "See the caveats in the documentation: https://pandas.pydata.org/pandas-docs/stable/user_guide/indexing.html#returning-a-view-versus-a-copy\n",
            "  dfReporteCompraVentaEnergiaAcme['Operacion'] = np.where(dfReporteCompraVentaEnergiaAcme['Compromisos_MCOP'] < 0, 'Comprar', 'Vender')\n",
            "<ipython-input-17-3e4a7e0246ae>:22: SettingWithCopyWarning: \n",
            "A value is trying to be set on a copy of a slice from a DataFrame\n",
            "\n",
            "See the caveats in the documentation: https://pandas.pydata.org/pandas-docs/stable/user_guide/indexing.html#returning-a-view-versus-a-copy\n",
            "  dfReporteCompraVentaEnergiaAcme.rename(columns={'Año': 'Anio', 'Día': 'Dia'}, inplace=True)\n"
          ]
        }
      ]
    },
    {
      "cell_type": "markdown",
      "source": [
        "# Carga"
      ],
      "metadata": {
        "id": "JcjsWuTa_CcM"
      }
    },
    {
      "cell_type": "markdown",
      "source": [
        "En las siguientes líneas de código se almacena localmente en el notebook una carpeta que contendrá el archivo"
      ],
      "metadata": {
        "id": "nS4p1-JdHllI"
      }
    },
    {
      "cell_type": "code",
      "source": [
        "ruta_carpeta = 'tmp'\n",
        "os.makedirs(ruta_carpeta, exist_ok=True)\n",
        "dfReporteCompraVentaEnergiaAcme.to_csv(f'{ruta_carpeta}//dfReporteCompraVentaEnergiaAcme.csv', index=False)"
      ],
      "metadata": {
        "id": "-yR7a61NDy9f"
      },
      "execution_count": 18,
      "outputs": []
    },
    {
      "cell_type": "markdown",
      "source": [
        "Inicio de sesión en la plataforma con la API y obtención del token para cargar el archivo"
      ],
      "metadata": {
        "id": "NeaAKoJXHSyA"
      }
    },
    {
      "cell_type": "code",
      "source": [
        "file_upload_access_token = \"\"\n",
        "file_upload_account_id = \"\"\n",
        "params = {'key1': api_key_1, 'key2': api_key_2}\n",
        "response=requests.get(\"https://fastupload.io/api/v2/authorize\", params)\n",
        "json_response = json.loads(response.text)\n",
        "try:\n",
        "  file_upload_access_token = json_response[\"data\"][\"access_token\"]\n",
        "  file_upload_account_id = json_response[\"data\"][\"account_id\"]\n",
        "except:\n",
        "  print(\"Error autenticando y autorizando en el servicio remoto de carga de archivos.\")"
      ],
      "metadata": {
        "id": "YVkh-KgkF1j7"
      },
      "execution_count": 19,
      "outputs": []
    },
    {
      "cell_type": "code",
      "source": [
        "print(file_upload_access_token)"
      ],
      "metadata": {
        "colab": {
          "base_uri": "https://localhost:8080/"
        },
        "id": "vNuY7tauF7_z",
        "outputId": "742141a1-ec2e-4c12-f6a2-917ec70325ff"
      },
      "execution_count": 20,
      "outputs": [
        {
          "output_type": "stream",
          "name": "stdout",
          "text": [
            "ns6MxyjirZ25zT7SkuIhCAeGHiwFfb24JEpF64gTQ9ZyLMBedUZm3cr90q74IkIIl5sOpZV2XNciAQOFWXjd1xAlI8wn3OJbp6W0n2vMyl6HRVxtOKW5cKaKvvT5HG0Z\n"
          ]
        }
      ]
    },
    {
      "cell_type": "markdown",
      "source": [
        "Finalmente la conexión a la API por medio de las Key y carga del archivo (post)"
      ],
      "metadata": {
        "id": "kXwMS_vSIFCK"
      }
    },
    {
      "cell_type": "code",
      "source": [
        "upload_folder_id = \"\"\n",
        "json_response=\"\"\n",
        "with open(\"tmp/dfReporteCompraVentaEnergiaAcme.csv\", \"rb\") as archivo:\n",
        "  files = {\"upload_file\": (archivo.name, archivo)}  # Create a dictionary for the file upload\n",
        "\n",
        "  data = {\n",
        "    \"access_token\": file_upload_access_token,\n",
        "    \"account_id\": file_upload_account_id,\n",
        "    \"folder_id\": upload_folder_id  # Include folder_id if provided\n",
        "  }\n",
        "\n",
        "  response = requests.post(\"https://fastupload.io/api/v2/file/upload\", files=files, data=data)\n",
        "\n",
        "print(response.text)"
      ],
      "metadata": {
        "colab": {
          "base_uri": "https://localhost:8080/"
        },
        "id": "7Lu7SScnF-lU",
        "outputId": "7d1d9f53-c1ba-4954-fb5b-ec7f1cc3b7f7"
      },
      "execution_count": 21,
      "outputs": [
        {
          "output_type": "stream",
          "name": "stdout",
          "text": [
            "{\"response\":\"File uploaded\",\"data\":[{\"name\":\"dfReporteCompraVentaEnergiaAcme (2).csv\",\"size\":342,\"type\":\"application\\/octet-stream\",\"error\":null,\"url\":\"https:\\/\\/fastupload.io\\/b30524259d2ae95d\",\"delete_url\":\"https:\\/\\/fastupload.io\\/b30524259d2ae95d~d?c380831246c9137e472c6bd5139dbb9a\",\"info_url\":\"https:\\/\\/fastupload.io\\/b30524259d2ae95d~i\",\"delete_type\":\"DELETE\",\"delete_hash\":\"c380831246c9137e472c6bd5139dbb9a\",\"hash\":\"94f88bd605991fa72ea7751ae465407a\",\"stats_url\":\"https:\\/\\/fastupload.io\\/b30524259d2ae95d~s\",\"short_url\":\"b30524259d2ae95d\",\"file_id\":\"664630\",\"unique_hash\":\"f64ea4667ae63850a8fd326fff9d915f9d46642a7a996a6170d00f47d8ce11ad\",\"url_html\":\"&lt;a href=&quot;https:\\/\\/fastupload.io\\/b30524259d2ae95d&quot; target=&quot;_blank&quot; title=&quot;View image on Fastupload.io&quot;&gt;View dfReporteCompraVentaEnergiaAcme (2).csv on Fastupload.io&lt;\\/a&gt;\",\"url_bbcode\":\"[url]https:\\/\\/fastupload.io\\/b30524259d2ae95d[\\/url]\",\"success_result_html\":\"\"}],\"_status\":\"success\",\"_datetime\":\"2024-09-07 17:27:05\"}\n"
          ]
        }
      ]
    }
  ]
}