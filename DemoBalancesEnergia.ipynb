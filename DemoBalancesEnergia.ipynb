{
  "nbformat": 4,
  "nbformat_minor": 0,
  "metadata": {
    "colab": {
      "provenance": []
    },
    "kernelspec": {
      "name": "python3",
      "display_name": "Python 3"
    },
    "language_info": {
      "name": "python"
    }
  },
  "cells": [
    {
      "cell_type": "markdown",
      "source": [
        "# Demo Balance de Energía"
      ],
      "metadata": {
        "id": "HgrjzC8lOXzC"
      }
    },
    {
      "cell_type": "markdown",
      "source": [
        "**Python (Pandas)**\n",
        "*   Simplicidad\n",
        "*   Familiaridad\n",
        "*   Rendimiento para pequeños volumenes\n",
        "*   Bajo costo (open source)\n",
        "\n",
        "**Colab**\n",
        "\n",
        "* Implementa procesos automáticos de respaldo, mediante scripts que sincronicen con Google Drive, además de que permite la mitigación de errores mediante la implementación de notebooks (paso a paso)\n",
        "* Entorno de desarrollo serverless eficiente, entendible y fácil de manipular\n",
        "* Completa integración con python\n",
        "\n",
        "**Escalabilidad**\n",
        "\n",
        "Integración con Dask: computación y procesamiento de datos distribuída (paralización) para medianos volumenes de datos.\n",
        "\n",
        "\n",
        "\n"
      ],
      "metadata": {
        "id": "JXZ3ML-qRKNM"
      }
    },
    {
      "cell_type": "markdown",
      "source": [
        "Importe de librerías:"
      ],
      "metadata": {
        "id": "vHVW8R7TUxMF"
      }
    },
    {
      "cell_type": "code",
      "source": [
        "import requests\n",
        "import json\n",
        "import pandas as pd\n",
        "import numpy as np\n",
        "import re\n",
        "import os ## Librería del SO para cargar y leer archivos"
      ],
      "metadata": {
        "id": "Syl-1ewtEhB8"
      },
      "execution_count": null,
      "outputs": []
    },
    {
      "cell_type": "markdown",
      "source": [
        "Definición e inicialización de variables necesarias:"
      ],
      "metadata": {
        "id": "jjMGrPTtVBK-"
      }
    },
    {
      "cell_type": "code",
      "source": [
        "fecha_inicio=\"2024-07-09\" ## Para que se pueda modificar la fecha del proceso en caso de que se requiera\n",
        "fecha_fin=\"2024-07-20\"\n",
        "id_archivo_balance_drive=\"1EDzz9Ep9VzHwVrHNy9Z_dL5K8D0r4oKv\" #ID Archivo con errores!!\n",
        "id_archivo_balance_drive_cor=\"1gsiY85tRa5_3QLtjRvEAz403tTgkSLDn\" #ID Archivo sin error\n",
        "api_key_1=\"lbmgOxpdzM9ffbXmvF3UyPhxwEHFf53wFSDk8ddqEQeor9eXetbGiYqlUkKPHIBL\"\n",
        "api_key_2=\"QlgVYk5LeVCWCD6BoNoWFkn1lhtUC3vPuFpWBuNkpRo6R4trrNnyqux6LTTn8I4n\""
      ],
      "metadata": {
        "id": "UWXo2dSRhzy3"
      },
      "execution_count": null,
      "outputs": []
    },
    {
      "cell_type": "markdown",
      "source": [
        "# Extracción"
      ],
      "metadata": {
        "id": "lhxF7uz4rM42"
      }
    },
    {
      "cell_type": "markdown",
      "source": [
        "**Para procesar el archivo con errores en sus valores:**"
      ],
      "metadata": {
        "id": "9OG1WU1CD9LG"
      }
    },
    {
      "cell_type": "code",
      "source": [
        "download_url = f'https://drive.google.com/uc?export=download&id={id_archivo_balance_drive}'\n",
        "local_file_path = '/tmp/balances3.xlsx'\n",
        "\n",
        "## \"response\" es un objeto que contiene los datos en binario que se desean escribir en el archivo\n",
        "response = requests.get(download_url)\n",
        "with open(local_file_path, 'wb') as file: ## Abre un archivo en modo escritura binaria ('wb'). El gestor (context manager) asegura que el archivo se cierre automáticamente cuando se salga del bloque \"with\"\n",
        "    file.write(response.content) ## Este método escribe datos en binario en el archivo abierto \"file\"."
      ],
      "metadata": {
        "id": "OhwujWIr7nSE"
      },
      "execution_count": null,
      "outputs": []
    },
    {
      "cell_type": "markdown",
      "source": [
        "**Para procesar el archivo sin errores en sus valores:**"
      ],
      "metadata": {
        "id": "NCOaGEv4K8Mt"
      }
    },
    {
      "cell_type": "code",
      "source": [
        "download_url_cor = f'https://drive.google.com/uc?export=download&id={id_archivo_balance_drive_cor}'\n",
        "local_file_path = '/tmp/balances4.xlsx'\n",
        "response = requests.get(download_url_cor)\n",
        "with open(local_file_path, 'wb') as file:\n",
        "    file.write(response.content)"
      ],
      "metadata": {
        "id": "zjMymKKRLENG"
      },
      "execution_count": null,
      "outputs": []
    },
    {
      "cell_type": "markdown",
      "source": [
        "Capacidad real de generadoras"
      ],
      "metadata": {
        "id": "iNK64mhYVL0D"
      }
    },
    {
      "cell_type": "code",
      "source": [
        "dfArchivoCapacidad = pd.read_excel(local_file_path,engine='openpyxl')\n",
        "dfArchivoCapacidad.head(10).style"
      ],
      "metadata": {
        "colab": {
          "base_uri": "https://localhost:8080/",
          "height": 363
        },
        "id": "PDJ8KLlRWX6w",
        "outputId": "8c2b8d2d-bdd6-4911-8992-b256ab4c1435"
      },
      "execution_count": null,
      "outputs": [
        {
          "output_type": "execute_result",
          "data": {
            "text/plain": [
              "<pandas.io.formats.style.Styler at 0x7d10801009d0>"
            ],
            "text/html": [
              "<style type=\"text/css\">\n",
              "</style>\n",
              "<table id=\"T_35ee7\" class=\"dataframe\">\n",
              "  <thead>\n",
              "    <tr>\n",
              "      <th class=\"blank level0\" >&nbsp;</th>\n",
              "      <th id=\"T_35ee7_level0_col0\" class=\"col_heading level0 col0\" >Unnamed: 0</th>\n",
              "      <th id=\"T_35ee7_level0_col1\" class=\"col_heading level0 col1\" >Unnamed: 1</th>\n",
              "      <th id=\"T_35ee7_level0_col2\" class=\"col_heading level0 col2\" >Unnamed: 2</th>\n",
              "      <th id=\"T_35ee7_level0_col3\" class=\"col_heading level0 col3\" >Unnamed: 3</th>\n",
              "      <th id=\"T_35ee7_level0_col4\" class=\"col_heading level0 col4\" >Unnamed: 4</th>\n",
              "      <th id=\"T_35ee7_level0_col5\" class=\"col_heading level0 col5\" >Unnamed: 5</th>\n",
              "    </tr>\n",
              "  </thead>\n",
              "  <tbody>\n",
              "    <tr>\n",
              "      <th id=\"T_35ee7_level0_row0\" class=\"row_heading level0 row0\" >0</th>\n",
              "      <td id=\"T_35ee7_row0_col0\" class=\"data row0 col0\" >nan</td>\n",
              "      <td id=\"T_35ee7_row0_col1\" class=\"data row0 col1\" >Programa de Generación por Planta</td>\n",
              "      <td id=\"T_35ee7_row0_col2\" class=\"data row0 col2\" >nan</td>\n",
              "      <td id=\"T_35ee7_row0_col3\" class=\"data row0 col3\" >nan</td>\n",
              "      <td id=\"T_35ee7_row0_col4\" class=\"data row0 col4\" >nan</td>\n",
              "      <td id=\"T_35ee7_row0_col5\" class=\"data row0 col5\" >nan</td>\n",
              "    </tr>\n",
              "    <tr>\n",
              "      <th id=\"T_35ee7_level0_row1\" class=\"row_heading level0 row1\" >1</th>\n",
              "      <td id=\"T_35ee7_row1_col0\" class=\"data row1 col0\" >nan</td>\n",
              "      <td id=\"T_35ee7_row1_col1\" class=\"data row1 col1\" >Empresa Generadora ACME S.A. E.S.P.</td>\n",
              "      <td id=\"T_35ee7_row1_col2\" class=\"data row1 col2\" >nan</td>\n",
              "      <td id=\"T_35ee7_row1_col3\" class=\"data row1 col3\" >nan</td>\n",
              "      <td id=\"T_35ee7_row1_col4\" class=\"data row1 col4\" >nan</td>\n",
              "      <td id=\"T_35ee7_row1_col5\" class=\"data row1 col5\" >nan</td>\n",
              "    </tr>\n",
              "    <tr>\n",
              "      <th id=\"T_35ee7_level0_row2\" class=\"row_heading level0 row2\" >2</th>\n",
              "      <td id=\"T_35ee7_row2_col0\" class=\"data row2 col0\" >nan</td>\n",
              "      <td id=\"T_35ee7_row2_col1\" class=\"data row2 col1\" >Despacho Real 10/07/2024</td>\n",
              "      <td id=\"T_35ee7_row2_col2\" class=\"data row2 col2\" >nan</td>\n",
              "      <td id=\"T_35ee7_row2_col3\" class=\"data row2 col3\" >nan</td>\n",
              "      <td id=\"T_35ee7_row2_col4\" class=\"data row2 col4\" >nan</td>\n",
              "      <td id=\"T_35ee7_row2_col5\" class=\"data row2 col5\" >nan</td>\n",
              "    </tr>\n",
              "    <tr>\n",
              "      <th id=\"T_35ee7_level0_row3\" class=\"row_heading level0 row3\" >3</th>\n",
              "      <td id=\"T_35ee7_row3_col0\" class=\"data row3 col0\" >nan</td>\n",
              "      <td id=\"T_35ee7_row3_col1\" class=\"data row3 col1\" >nan</td>\n",
              "      <td id=\"T_35ee7_row3_col2\" class=\"data row3 col2\" >nan</td>\n",
              "      <td id=\"T_35ee7_row3_col3\" class=\"data row3 col3\" >nan</td>\n",
              "      <td id=\"T_35ee7_row3_col4\" class=\"data row3 col4\" >nan</td>\n",
              "      <td id=\"T_35ee7_row3_col5\" class=\"data row3 col5\" >nan</td>\n",
              "    </tr>\n",
              "    <tr>\n",
              "      <th id=\"T_35ee7_level0_row4\" class=\"row_heading level0 row4\" >4</th>\n",
              "      <td id=\"T_35ee7_row4_col0\" class=\"data row4 col0\" >nan</td>\n",
              "      <td id=\"T_35ee7_row4_col1\" class=\"data row4 col1\" >FECHA</td>\n",
              "      <td id=\"T_35ee7_row4_col2\" class=\"data row4 col2\" >PLANTA</td>\n",
              "      <td id=\"T_35ee7_row4_col3\" class=\"data row4 col3\" >GENERADOR</td>\n",
              "      <td id=\"T_35ee7_row4_col4\" class=\"data row4 col4\" >CAPACIDAD (Kwh)</td>\n",
              "      <td id=\"T_35ee7_row4_col5\" class=\"data row4 col5\" >CODIGO</td>\n",
              "    </tr>\n",
              "    <tr>\n",
              "      <th id=\"T_35ee7_level0_row5\" class=\"row_heading level0 row5\" >5</th>\n",
              "      <td id=\"T_35ee7_row5_col0\" class=\"data row5 col0\" >nan</td>\n",
              "      <td id=\"T_35ee7_row5_col1\" class=\"data row5 col1\" >2024-07-10 00:00:00</td>\n",
              "      <td id=\"T_35ee7_row5_col2\" class=\"data row5 col2\" >TERMOZIPA</td>\n",
              "      <td id=\"T_35ee7_row5_col3\" class=\"data row5 col3\" >2</td>\n",
              "      <td id=\"T_35ee7_row5_col4\" class=\"data row5 col4\" >33000</td>\n",
              "      <td id=\"T_35ee7_row5_col5\" class=\"data row5 col5\" >ZPA2</td>\n",
              "    </tr>\n",
              "    <tr>\n",
              "      <th id=\"T_35ee7_level0_row6\" class=\"row_heading level0 row6\" >6</th>\n",
              "      <td id=\"T_35ee7_row6_col0\" class=\"data row6 col0\" >nan</td>\n",
              "      <td id=\"T_35ee7_row6_col1\" class=\"data row6 col1\" >2024-07-10 01:00:00</td>\n",
              "      <td id=\"T_35ee7_row6_col2\" class=\"data row6 col2\" >TERMOZIPA</td>\n",
              "      <td id=\"T_35ee7_row6_col3\" class=\"data row6 col3\" >2</td>\n",
              "      <td id=\"T_35ee7_row6_col4\" class=\"data row6 col4\" >33000</td>\n",
              "      <td id=\"T_35ee7_row6_col5\" class=\"data row6 col5\" >ZPA2</td>\n",
              "    </tr>\n",
              "    <tr>\n",
              "      <th id=\"T_35ee7_level0_row7\" class=\"row_heading level0 row7\" >7</th>\n",
              "      <td id=\"T_35ee7_row7_col0\" class=\"data row7 col0\" >nan</td>\n",
              "      <td id=\"T_35ee7_row7_col1\" class=\"data row7 col1\" >2024-07-10 02:00:00</td>\n",
              "      <td id=\"T_35ee7_row7_col2\" class=\"data row7 col2\" >TERMOZIPA</td>\n",
              "      <td id=\"T_35ee7_row7_col3\" class=\"data row7 col3\" >2</td>\n",
              "      <td id=\"T_35ee7_row7_col4\" class=\"data row7 col4\" >33000</td>\n",
              "      <td id=\"T_35ee7_row7_col5\" class=\"data row7 col5\" >ZPA2</td>\n",
              "    </tr>\n",
              "    <tr>\n",
              "      <th id=\"T_35ee7_level0_row8\" class=\"row_heading level0 row8\" >8</th>\n",
              "      <td id=\"T_35ee7_row8_col0\" class=\"data row8 col0\" >nan</td>\n",
              "      <td id=\"T_35ee7_row8_col1\" class=\"data row8 col1\" >2024-07-10 03:00:00</td>\n",
              "      <td id=\"T_35ee7_row8_col2\" class=\"data row8 col2\" >TERMOZIPA</td>\n",
              "      <td id=\"T_35ee7_row8_col3\" class=\"data row8 col3\" >2</td>\n",
              "      <td id=\"T_35ee7_row8_col4\" class=\"data row8 col4\" >33000</td>\n",
              "      <td id=\"T_35ee7_row8_col5\" class=\"data row8 col5\" >ZPA2</td>\n",
              "    </tr>\n",
              "    <tr>\n",
              "      <th id=\"T_35ee7_level0_row9\" class=\"row_heading level0 row9\" >9</th>\n",
              "      <td id=\"T_35ee7_row9_col0\" class=\"data row9 col0\" >nan</td>\n",
              "      <td id=\"T_35ee7_row9_col1\" class=\"data row9 col1\" >2024-07-10 04:00:00</td>\n",
              "      <td id=\"T_35ee7_row9_col2\" class=\"data row9 col2\" >TERMOZIPA</td>\n",
              "      <td id=\"T_35ee7_row9_col3\" class=\"data row9 col3\" >2</td>\n",
              "      <td id=\"T_35ee7_row9_col4\" class=\"data row9 col4\" >20834</td>\n",
              "      <td id=\"T_35ee7_row9_col5\" class=\"data row9 col5\" >ZPA2</td>\n",
              "    </tr>\n",
              "  </tbody>\n",
              "</table>\n"
            ]
          },
          "metadata": {},
          "execution_count": 8
        }
      ]
    },
    {
      "cell_type": "markdown",
      "source": [
        "Para obtener los precios de energía desde la bolsa, consumiendo la API de XM"
      ],
      "metadata": {
        "id": "JzVuwJg3VUQG"
      }
    },
    {
      "cell_type": "code",
      "source": [
        "## Para obtener desde el simem los precios. el datasetId al final de la url hay que buscarlo en simem Precios\n",
        "url = f\"https://www.simem.co/backend-files/api/PublicData?startDate={fecha_inicio}&endDate={fecha_fin}&datasetId=96D56E\"\n",
        "\n",
        "response = requests.get(url)\n",
        "json_precios = json.loads(response.text)"
      ],
      "metadata": {
        "id": "8wcKoJ9wJXob"
      },
      "execution_count": null,
      "outputs": []
    },
    {
      "cell_type": "code",
      "source": [
        "dfPreciosBolsa = pd.DataFrame(json_precios['result']['records'])\n",
        "dfPreciosBolsa.head(10).style\n"
      ],
      "metadata": {
        "colab": {
          "base_uri": "https://localhost:8080/",
          "height": 363
        },
        "id": "hWb2OfFmUkVo",
        "outputId": "014d2788-d98e-4a12-cfc9-a4e3dee5054a"
      },
      "execution_count": null,
      "outputs": [
        {
          "output_type": "execute_result",
          "data": {
            "text/plain": [
              "<pandas.io.formats.style.Styler at 0x7d1080bf88b0>"
            ],
            "text/html": [
              "<style type=\"text/css\">\n",
              "</style>\n",
              "<table id=\"T_d0d15\" class=\"dataframe\">\n",
              "  <thead>\n",
              "    <tr>\n",
              "      <th class=\"blank level0\" >&nbsp;</th>\n",
              "      <th id=\"T_d0d15_level0_col0\" class=\"col_heading level0 col0\" >CodigoVariable</th>\n",
              "      <th id=\"T_d0d15_level0_col1\" class=\"col_heading level0 col1\" >Fecha</th>\n",
              "      <th id=\"T_d0d15_level0_col2\" class=\"col_heading level0 col2\" >CodigoDuracion</th>\n",
              "      <th id=\"T_d0d15_level0_col3\" class=\"col_heading level0 col3\" >UnidadMedida</th>\n",
              "      <th id=\"T_d0d15_level0_col4\" class=\"col_heading level0 col4\" >Version</th>\n",
              "      <th id=\"T_d0d15_level0_col5\" class=\"col_heading level0 col5\" >Valor</th>\n",
              "    </tr>\n",
              "  </thead>\n",
              "  <tbody>\n",
              "    <tr>\n",
              "      <th id=\"T_d0d15_level0_row0\" class=\"row_heading level0 row0\" >0</th>\n",
              "      <td id=\"T_d0d15_row0_col0\" class=\"data row0 col0\" >PPBOGReal</td>\n",
              "      <td id=\"T_d0d15_row0_col1\" class=\"data row0 col1\" >2024-07-20</td>\n",
              "      <td id=\"T_d0d15_row0_col2\" class=\"data row0 col2\" >P1D</td>\n",
              "      <td id=\"T_d0d15_row0_col3\" class=\"data row0 col3\" >COP/kWh</td>\n",
              "      <td id=\"T_d0d15_row0_col4\" class=\"data row0 col4\" >TXF</td>\n",
              "      <td id=\"T_d0d15_row0_col5\" class=\"data row0 col5\" >321.583900</td>\n",
              "    </tr>\n",
              "    <tr>\n",
              "      <th id=\"T_d0d15_level0_row1\" class=\"row_heading level0 row1\" >1</th>\n",
              "      <td id=\"T_d0d15_row1_col0\" class=\"data row1 col0\" >PPBO</td>\n",
              "      <td id=\"T_d0d15_row1_col1\" class=\"data row1 col1\" >2024-07-20</td>\n",
              "      <td id=\"T_d0d15_row1_col2\" class=\"data row1 col2\" >P1D</td>\n",
              "      <td id=\"T_d0d15_row1_col3\" class=\"data row1 col3\" >COP/kWh</td>\n",
              "      <td id=\"T_d0d15_row1_col4\" class=\"data row1 col4\" >TXF</td>\n",
              "      <td id=\"T_d0d15_row1_col5\" class=\"data row1 col5\" >322.321900</td>\n",
              "    </tr>\n",
              "    <tr>\n",
              "      <th id=\"T_d0d15_level0_row2\" class=\"row_heading level0 row2\" >2</th>\n",
              "      <td id=\"T_d0d15_row2_col0\" class=\"data row2 col0\" >PPBO</td>\n",
              "      <td id=\"T_d0d15_row2_col1\" class=\"data row2 col1\" >2024-07-20</td>\n",
              "      <td id=\"T_d0d15_row2_col2\" class=\"data row2 col2\" >P1D</td>\n",
              "      <td id=\"T_d0d15_row2_col3\" class=\"data row2 col3\" >COP/kWh</td>\n",
              "      <td id=\"T_d0d15_row2_col4\" class=\"data row2 col4\" >TX2</td>\n",
              "      <td id=\"T_d0d15_row2_col5\" class=\"data row2 col5\" >316.251600</td>\n",
              "    </tr>\n",
              "    <tr>\n",
              "      <th id=\"T_d0d15_level0_row3\" class=\"row_heading level0 row3\" >3</th>\n",
              "      <td id=\"T_d0d15_row3_col0\" class=\"data row3 col0\" >PPBOGReal</td>\n",
              "      <td id=\"T_d0d15_row3_col1\" class=\"data row3 col1\" >2024-07-20</td>\n",
              "      <td id=\"T_d0d15_row3_col2\" class=\"data row3 col2\" >P1D</td>\n",
              "      <td id=\"T_d0d15_row3_col3\" class=\"data row3 col3\" >COP/kWh</td>\n",
              "      <td id=\"T_d0d15_row3_col4\" class=\"data row3 col4\" >TX2</td>\n",
              "      <td id=\"T_d0d15_row3_col5\" class=\"data row3 col5\" >315.504300</td>\n",
              "    </tr>\n",
              "    <tr>\n",
              "      <th id=\"T_d0d15_level0_row4\" class=\"row_heading level0 row4\" >4</th>\n",
              "      <td id=\"T_d0d15_row4_col0\" class=\"data row4 col0\" >PPBOGReal</td>\n",
              "      <td id=\"T_d0d15_row4_col1\" class=\"data row4 col1\" >2024-07-20</td>\n",
              "      <td id=\"T_d0d15_row4_col2\" class=\"data row4 col2\" >P1D</td>\n",
              "      <td id=\"T_d0d15_row4_col3\" class=\"data row4 col3\" >COP/kWh</td>\n",
              "      <td id=\"T_d0d15_row4_col4\" class=\"data row4 col4\" >TX1</td>\n",
              "      <td id=\"T_d0d15_row4_col5\" class=\"data row4 col5\" >315.454800</td>\n",
              "    </tr>\n",
              "    <tr>\n",
              "      <th id=\"T_d0d15_level0_row5\" class=\"row_heading level0 row5\" >5</th>\n",
              "      <td id=\"T_d0d15_row5_col0\" class=\"data row5 col0\" >PPBOGReal</td>\n",
              "      <td id=\"T_d0d15_row5_col1\" class=\"data row5 col1\" >2024-07-20</td>\n",
              "      <td id=\"T_d0d15_row5_col2\" class=\"data row5 col2\" >P1D</td>\n",
              "      <td id=\"T_d0d15_row5_col3\" class=\"data row5 col3\" >COP/kWh</td>\n",
              "      <td id=\"T_d0d15_row5_col4\" class=\"data row5 col4\" >TXR</td>\n",
              "      <td id=\"T_d0d15_row5_col5\" class=\"data row5 col5\" >321.582000</td>\n",
              "    </tr>\n",
              "    <tr>\n",
              "      <th id=\"T_d0d15_level0_row6\" class=\"row_heading level0 row6\" >6</th>\n",
              "      <td id=\"T_d0d15_row6_col0\" class=\"data row6 col0\" >PPBO</td>\n",
              "      <td id=\"T_d0d15_row6_col1\" class=\"data row6 col1\" >2024-07-20</td>\n",
              "      <td id=\"T_d0d15_row6_col2\" class=\"data row6 col2\" >P1D</td>\n",
              "      <td id=\"T_d0d15_row6_col3\" class=\"data row6 col3\" >COP/kWh</td>\n",
              "      <td id=\"T_d0d15_row6_col4\" class=\"data row6 col4\" >TXR</td>\n",
              "      <td id=\"T_d0d15_row6_col5\" class=\"data row6 col5\" >322.323700</td>\n",
              "    </tr>\n",
              "    <tr>\n",
              "      <th id=\"T_d0d15_level0_row7\" class=\"row_heading level0 row7\" >7</th>\n",
              "      <td id=\"T_d0d15_row7_col0\" class=\"data row7 col0\" >PPBOGReal</td>\n",
              "      <td id=\"T_d0d15_row7_col1\" class=\"data row7 col1\" >2024-07-19</td>\n",
              "      <td id=\"T_d0d15_row7_col2\" class=\"data row7 col2\" >P1D</td>\n",
              "      <td id=\"T_d0d15_row7_col3\" class=\"data row7 col3\" >COP/kWh</td>\n",
              "      <td id=\"T_d0d15_row7_col4\" class=\"data row7 col4\" >TX1</td>\n",
              "      <td id=\"T_d0d15_row7_col5\" class=\"data row7 col5\" >315.522600</td>\n",
              "    </tr>\n",
              "    <tr>\n",
              "      <th id=\"T_d0d15_level0_row8\" class=\"row_heading level0 row8\" >8</th>\n",
              "      <td id=\"T_d0d15_row8_col0\" class=\"data row8 col0\" >PPBOGReal</td>\n",
              "      <td id=\"T_d0d15_row8_col1\" class=\"data row8 col1\" >2024-07-19</td>\n",
              "      <td id=\"T_d0d15_row8_col2\" class=\"data row8 col2\" >P1D</td>\n",
              "      <td id=\"T_d0d15_row8_col3\" class=\"data row8 col3\" >COP/kWh</td>\n",
              "      <td id=\"T_d0d15_row8_col4\" class=\"data row8 col4\" >TXF</td>\n",
              "      <td id=\"T_d0d15_row8_col5\" class=\"data row8 col5\" >321.599900</td>\n",
              "    </tr>\n",
              "    <tr>\n",
              "      <th id=\"T_d0d15_level0_row9\" class=\"row_heading level0 row9\" >9</th>\n",
              "      <td id=\"T_d0d15_row9_col0\" class=\"data row9 col0\" >PPBO</td>\n",
              "      <td id=\"T_d0d15_row9_col1\" class=\"data row9 col1\" >2024-07-19</td>\n",
              "      <td id=\"T_d0d15_row9_col2\" class=\"data row9 col2\" >P1D</td>\n",
              "      <td id=\"T_d0d15_row9_col3\" class=\"data row9 col3\" >COP/kWh</td>\n",
              "      <td id=\"T_d0d15_row9_col4\" class=\"data row9 col4\" >TXF</td>\n",
              "      <td id=\"T_d0d15_row9_col5\" class=\"data row9 col5\" >319.463500</td>\n",
              "    </tr>\n",
              "  </tbody>\n",
              "</table>\n"
            ]
          },
          "metadata": {},
          "execution_count": 10
        }
      ]
    },
    {
      "cell_type": "code",
      "source": [
        "## Para obtener desde SIMEM el compromiso o los despachos por unidad.\n",
        "url = f\"https://www.simem.co/backend-files/api/PublicData?startdate={fecha_inicio}&enddate={fecha_fin}&datasetId=ff027b\"\n",
        "response = requests.get(url)\n",
        "json_precios = json.loads(response.text)"
      ],
      "metadata": {
        "id": "VWZp9DSKBXEf"
      },
      "execution_count": null,
      "outputs": []
    },
    {
      "cell_type": "code",
      "source": [
        "dfDespachosUnidades = pd.DataFrame(json_precios['result']['records'])\n",
        "dfDespachosUnidades.head(10).style"
      ],
      "metadata": {
        "colab": {
          "base_uri": "https://localhost:8080/",
          "height": 363
        },
        "id": "m9YllQ0KW1kU",
        "outputId": "2cd6c6fa-2eaa-41bb-cb2a-f27b0be65abb"
      },
      "execution_count": null,
      "outputs": [
        {
          "output_type": "execute_result",
          "data": {
            "text/plain": [
              "<pandas.io.formats.style.Styler at 0x7d1080174040>"
            ],
            "text/html": [
              "<style type=\"text/css\">\n",
              "</style>\n",
              "<table id=\"T_74b0b\" class=\"dataframe\">\n",
              "  <thead>\n",
              "    <tr>\n",
              "      <th class=\"blank level0\" >&nbsp;</th>\n",
              "      <th id=\"T_74b0b_level0_col0\" class=\"col_heading level0 col0\" >FechaHora</th>\n",
              "      <th id=\"T_74b0b_level0_col1\" class=\"col_heading level0 col1\" >CodigoDuracion</th>\n",
              "      <th id=\"T_74b0b_level0_col2\" class=\"col_heading level0 col2\" >CodigoPlanta</th>\n",
              "      <th id=\"T_74b0b_level0_col3\" class=\"col_heading level0 col3\" >Valor</th>\n",
              "    </tr>\n",
              "  </thead>\n",
              "  <tbody>\n",
              "    <tr>\n",
              "      <th id=\"T_74b0b_level0_row0\" class=\"row_heading level0 row0\" >0</th>\n",
              "      <td id=\"T_74b0b_row0_col0\" class=\"data row0 col0\" >2024-07-20 13:00:00</td>\n",
              "      <td id=\"T_74b0b_row0_col1\" class=\"data row0 col1\" >PT1H</td>\n",
              "      <td id=\"T_74b0b_row0_col2\" class=\"data row0 col2\" >SBA1</td>\n",
              "      <td id=\"T_74b0b_row0_col3\" class=\"data row0 col3\" >0.000000</td>\n",
              "    </tr>\n",
              "    <tr>\n",
              "      <th id=\"T_74b0b_level0_row1\" class=\"row_heading level0 row1\" >1</th>\n",
              "      <td id=\"T_74b0b_row1_col0\" class=\"data row1 col0\" >2024-07-20 13:00:00</td>\n",
              "      <td id=\"T_74b0b_row1_col1\" class=\"data row1 col1\" >PT1H</td>\n",
              "      <td id=\"T_74b0b_row1_col2\" class=\"data row1 col2\" >SFC1</td>\n",
              "      <td id=\"T_74b0b_row1_col3\" class=\"data row1 col3\" >370.000000</td>\n",
              "    </tr>\n",
              "    <tr>\n",
              "      <th id=\"T_74b0b_level0_row2\" class=\"row_heading level0 row2\" >2</th>\n",
              "      <td id=\"T_74b0b_row2_col0\" class=\"data row2 col0\" >2024-07-20 13:00:00</td>\n",
              "      <td id=\"T_74b0b_row2_col1\" class=\"data row2 col1\" >PT1H</td>\n",
              "      <td id=\"T_74b0b_row2_col2\" class=\"data row2 col2\" >SJM1</td>\n",
              "      <td id=\"T_74b0b_row2_col3\" class=\"data row2 col3\" >0.000000</td>\n",
              "    </tr>\n",
              "    <tr>\n",
              "      <th id=\"T_74b0b_level0_row3\" class=\"row_heading level0 row3\" >3</th>\n",
              "      <td id=\"T_74b0b_row3_col0\" class=\"data row3 col0\" >2024-07-20 13:00:00</td>\n",
              "      <td id=\"T_74b0b_row3_col1\" class=\"data row3 col1\" >PT1H</td>\n",
              "      <td id=\"T_74b0b_row3_col2\" class=\"data row3 col2\" >SJN1</td>\n",
              "      <td id=\"T_74b0b_row3_col3\" class=\"data row3 col3\" >2700.000000</td>\n",
              "    </tr>\n",
              "    <tr>\n",
              "      <th id=\"T_74b0b_level0_row4\" class=\"row_heading level0 row4\" >4</th>\n",
              "      <td id=\"T_74b0b_row4_col0\" class=\"data row4 col0\" >2024-07-20 13:00:00</td>\n",
              "      <td id=\"T_74b0b_row4_col1\" class=\"data row4 col1\" >PT1H</td>\n",
              "      <td id=\"T_74b0b_row4_col2\" class=\"data row4 col2\" >SJOG</td>\n",
              "      <td id=\"T_74b0b_row4_col3\" class=\"data row4 col3\" >270.000000</td>\n",
              "    </tr>\n",
              "    <tr>\n",
              "      <th id=\"T_74b0b_level0_row5\" class=\"row_heading level0 row5\" >5</th>\n",
              "      <td id=\"T_74b0b_row5_col0\" class=\"data row5 col0\" >2024-07-20 13:00:00</td>\n",
              "      <td id=\"T_74b0b_row5_col1\" class=\"data row5 col1\" >PT1H</td>\n",
              "      <td id=\"T_74b0b_row5_col2\" class=\"data row5 col2\" >SLV1</td>\n",
              "      <td id=\"T_74b0b_row5_col3\" class=\"data row5 col3\" >350.000000</td>\n",
              "    </tr>\n",
              "    <tr>\n",
              "      <th id=\"T_74b0b_level0_row6\" class=\"row_heading level0 row6\" >6</th>\n",
              "      <td id=\"T_74b0b_row6_col0\" class=\"data row6 col0\" >2024-07-20 13:00:00</td>\n",
              "      <td id=\"T_74b0b_row6_col1\" class=\"data row6 col1\" >PT1H</td>\n",
              "      <td id=\"T_74b0b_row6_col2\" class=\"data row6 col2\" >SLVJ</td>\n",
              "      <td id=\"T_74b0b_row6_col3\" class=\"data row6 col3\" >125000.000000</td>\n",
              "    </tr>\n",
              "    <tr>\n",
              "      <th id=\"T_74b0b_level0_row7\" class=\"row_heading level0 row7\" >7</th>\n",
              "      <td id=\"T_74b0b_row7_col0\" class=\"data row7 col0\" >2024-07-20 13:00:00</td>\n",
              "      <td id=\"T_74b0b_row7_col1\" class=\"data row7 col1\" >PT1H</td>\n",
              "      <td id=\"T_74b0b_row7_col2\" class=\"data row7 col2\" >SMI1</td>\n",
              "      <td id=\"T_74b0b_row7_col3\" class=\"data row7 col3\" >47000.000000</td>\n",
              "    </tr>\n",
              "    <tr>\n",
              "      <th id=\"T_74b0b_level0_row8\" class=\"row_heading level0 row8\" >8</th>\n",
              "      <td id=\"T_74b0b_row8_col0\" class=\"data row8 col0\" >2024-07-20 13:00:00</td>\n",
              "      <td id=\"T_74b0b_row8_col1\" class=\"data row8 col1\" >PT1H</td>\n",
              "      <td id=\"T_74b0b_row8_col2\" class=\"data row8 col2\" >SNC1</td>\n",
              "      <td id=\"T_74b0b_row8_col3\" class=\"data row8 col3\" >800.000000</td>\n",
              "    </tr>\n",
              "    <tr>\n",
              "      <th id=\"T_74b0b_level0_row9\" class=\"row_heading level0 row9\" >9</th>\n",
              "      <td id=\"T_74b0b_row9_col0\" class=\"data row9 col0\" >2024-07-20 13:00:00</td>\n",
              "      <td id=\"T_74b0b_row9_col1\" class=\"data row9 col1\" >PT1H</td>\n",
              "      <td id=\"T_74b0b_row9_col2\" class=\"data row9 col2\" >SNCR</td>\n",
              "      <td id=\"T_74b0b_row9_col3\" class=\"data row9 col3\" >0.000000</td>\n",
              "    </tr>\n",
              "  </tbody>\n",
              "</table>\n"
            ]
          },
          "metadata": {},
          "execution_count": 12
        }
      ]
    },
    {
      "cell_type": "markdown",
      "source": [
        "# Transformación"
      ],
      "metadata": {
        "id": "Fqh1p9L3rZd9"
      }
    },
    {
      "cell_type": "markdown",
      "source": [
        "Ahora, es necesario filtrar la columna código de planta en el DF de despachos para que permanezcan solo los registros que contengan ZPA2, ZPA3, ZPA4, ZPA5, GVIO, QUI1, CHVR"
      ],
      "metadata": {
        "id": "PrRRZ2YNdmvh"
      }
    },
    {
      "cell_type": "code",
      "source": [
        "listaPlantas = ['ZPA2','ZPA3','ZPA4','ZPA5','GVIO','QUI1']"
      ],
      "metadata": {
        "id": "QnlqdceGp9NW"
      },
      "execution_count": null,
      "outputs": []
    },
    {
      "cell_type": "code",
      "source": [
        "#Función para filtrar un dataframe por código planta.\n",
        "#Recibe el dataframe implicado y una lista que contiene los código planta que se quiere\n",
        "#Retorna el dataframe con los registros cuyo valor es True (filtro interno con el isin)\n",
        "\n",
        "def filtroCodigoPlanta(df, codigos):\n",
        "    return df[df['CodigoPlanta'].isin(codigos)]\n"
      ],
      "metadata": {
        "id": "qN1zEwfHeAV3"
      },
      "execution_count": null,
      "outputs": []
    },
    {
      "cell_type": "code",
      "source": [
        "dfCapacidadDespachosAcme = filtroCodigoPlanta(dfDespachosUnidades, listaPlantas)\n",
        "\n",
        "# Resetear los índices del dataframe\n",
        "dfCapacidadDespachosAcme = dfCapacidadDespachosAcme.reset_index(drop=True)\n",
        "\n",
        "dfCapacidadDespachosAcme.head(10).style"
      ],
      "metadata": {
        "colab": {
          "base_uri": "https://localhost:8080/",
          "height": 363
        },
        "id": "m22ZpnGkohR1",
        "outputId": "2af7823e-d52e-4380-ae35-ca4df758b584"
      },
      "execution_count": null,
      "outputs": [
        {
          "output_type": "execute_result",
          "data": {
            "text/plain": [
              "<pandas.io.formats.style.Styler at 0x7d1080175330>"
            ],
            "text/html": [
              "<style type=\"text/css\">\n",
              "</style>\n",
              "<table id=\"T_1fe10\" class=\"dataframe\">\n",
              "  <thead>\n",
              "    <tr>\n",
              "      <th class=\"blank level0\" >&nbsp;</th>\n",
              "      <th id=\"T_1fe10_level0_col0\" class=\"col_heading level0 col0\" >FechaHora</th>\n",
              "      <th id=\"T_1fe10_level0_col1\" class=\"col_heading level0 col1\" >CodigoDuracion</th>\n",
              "      <th id=\"T_1fe10_level0_col2\" class=\"col_heading level0 col2\" >CodigoPlanta</th>\n",
              "      <th id=\"T_1fe10_level0_col3\" class=\"col_heading level0 col3\" >Valor</th>\n",
              "    </tr>\n",
              "  </thead>\n",
              "  <tbody>\n",
              "    <tr>\n",
              "      <th id=\"T_1fe10_level0_row0\" class=\"row_heading level0 row0\" >0</th>\n",
              "      <td id=\"T_1fe10_row0_col0\" class=\"data row0 col0\" >2024-07-20 13:00:00</td>\n",
              "      <td id=\"T_1fe10_row0_col1\" class=\"data row0 col1\" >PT1H</td>\n",
              "      <td id=\"T_1fe10_row0_col2\" class=\"data row0 col2\" >QUI1</td>\n",
              "      <td id=\"T_1fe10_row0_col3\" class=\"data row0 col3\" >79000.000000</td>\n",
              "    </tr>\n",
              "    <tr>\n",
              "      <th id=\"T_1fe10_level0_row1\" class=\"row_heading level0 row1\" >1</th>\n",
              "      <td id=\"T_1fe10_row1_col0\" class=\"data row1 col0\" >2024-07-20 14:00:00</td>\n",
              "      <td id=\"T_1fe10_row1_col1\" class=\"data row1 col1\" >PT1H</td>\n",
              "      <td id=\"T_1fe10_row1_col2\" class=\"data row1 col2\" >QUI1</td>\n",
              "      <td id=\"T_1fe10_row1_col3\" class=\"data row1 col3\" >79000.000000</td>\n",
              "    </tr>\n",
              "    <tr>\n",
              "      <th id=\"T_1fe10_level0_row2\" class=\"row_heading level0 row2\" >2</th>\n",
              "      <td id=\"T_1fe10_row2_col0\" class=\"data row2 col0\" >2024-07-20 14:00:00</td>\n",
              "      <td id=\"T_1fe10_row2_col1\" class=\"data row2 col1\" >PT1H</td>\n",
              "      <td id=\"T_1fe10_row2_col2\" class=\"data row2 col2\" >GVIO</td>\n",
              "      <td id=\"T_1fe10_row2_col3\" class=\"data row2 col3\" >573380.000000</td>\n",
              "    </tr>\n",
              "    <tr>\n",
              "      <th id=\"T_1fe10_level0_row3\" class=\"row_heading level0 row3\" >3</th>\n",
              "      <td id=\"T_1fe10_row3_col0\" class=\"data row3 col0\" >2024-07-20 12:00:00</td>\n",
              "      <td id=\"T_1fe10_row3_col1\" class=\"data row3 col1\" >PT1H</td>\n",
              "      <td id=\"T_1fe10_row3_col2\" class=\"data row3 col2\" >QUI1</td>\n",
              "      <td id=\"T_1fe10_row3_col3\" class=\"data row3 col3\" >79000.000000</td>\n",
              "    </tr>\n",
              "    <tr>\n",
              "      <th id=\"T_1fe10_level0_row4\" class=\"row_heading level0 row4\" >4</th>\n",
              "      <td id=\"T_1fe10_row4_col0\" class=\"data row4 col0\" >2024-07-20 13:00:00</td>\n",
              "      <td id=\"T_1fe10_row4_col1\" class=\"data row4 col1\" >PT1H</td>\n",
              "      <td id=\"T_1fe10_row4_col2\" class=\"data row4 col2\" >GVIO</td>\n",
              "      <td id=\"T_1fe10_row4_col3\" class=\"data row4 col3\" >121450.000000</td>\n",
              "    </tr>\n",
              "    <tr>\n",
              "      <th id=\"T_1fe10_level0_row5\" class=\"row_heading level0 row5\" >5</th>\n",
              "      <td id=\"T_1fe10_row5_col0\" class=\"data row5 col0\" >2024-07-20 12:00:00</td>\n",
              "      <td id=\"T_1fe10_row5_col1\" class=\"data row5 col1\" >PT1H</td>\n",
              "      <td id=\"T_1fe10_row5_col2\" class=\"data row5 col2\" >ZPA2</td>\n",
              "      <td id=\"T_1fe10_row5_col3\" class=\"data row5 col3\" >0.000000</td>\n",
              "    </tr>\n",
              "    <tr>\n",
              "      <th id=\"T_1fe10_level0_row6\" class=\"row_heading level0 row6\" >6</th>\n",
              "      <td id=\"T_1fe10_row6_col0\" class=\"data row6 col0\" >2024-07-20 12:00:00</td>\n",
              "      <td id=\"T_1fe10_row6_col1\" class=\"data row6 col1\" >PT1H</td>\n",
              "      <td id=\"T_1fe10_row6_col2\" class=\"data row6 col2\" >ZPA3</td>\n",
              "      <td id=\"T_1fe10_row6_col3\" class=\"data row6 col3\" >48000.000000</td>\n",
              "    </tr>\n",
              "    <tr>\n",
              "      <th id=\"T_1fe10_level0_row7\" class=\"row_heading level0 row7\" >7</th>\n",
              "      <td id=\"T_1fe10_row7_col0\" class=\"data row7 col0\" >2024-07-20 12:00:00</td>\n",
              "      <td id=\"T_1fe10_row7_col1\" class=\"data row7 col1\" >PT1H</td>\n",
              "      <td id=\"T_1fe10_row7_col2\" class=\"data row7 col2\" >ZPA4</td>\n",
              "      <td id=\"T_1fe10_row7_col3\" class=\"data row7 col3\" >48000.000000</td>\n",
              "    </tr>\n",
              "    <tr>\n",
              "      <th id=\"T_1fe10_level0_row8\" class=\"row_heading level0 row8\" >8</th>\n",
              "      <td id=\"T_1fe10_row8_col0\" class=\"data row8 col0\" >2024-07-20 12:00:00</td>\n",
              "      <td id=\"T_1fe10_row8_col1\" class=\"data row8 col1\" >PT1H</td>\n",
              "      <td id=\"T_1fe10_row8_col2\" class=\"data row8 col2\" >ZPA5</td>\n",
              "      <td id=\"T_1fe10_row8_col3\" class=\"data row8 col3\" >0.000000</td>\n",
              "    </tr>\n",
              "    <tr>\n",
              "      <th id=\"T_1fe10_level0_row9\" class=\"row_heading level0 row9\" >9</th>\n",
              "      <td id=\"T_1fe10_row9_col0\" class=\"data row9 col0\" >2024-07-20 15:00:00</td>\n",
              "      <td id=\"T_1fe10_row9_col1\" class=\"data row9 col1\" >PT1H</td>\n",
              "      <td id=\"T_1fe10_row9_col2\" class=\"data row9 col2\" >ZPA2</td>\n",
              "      <td id=\"T_1fe10_row9_col3\" class=\"data row9 col3\" >0.000000</td>\n",
              "    </tr>\n",
              "  </tbody>\n",
              "</table>\n"
            ]
          },
          "metadata": {},
          "execution_count": 15
        }
      ]
    },
    {
      "cell_type": "markdown",
      "source": [
        "A continuación se renombran las columnas del dataframe de la capacidad y se nomalizan los datos a tipo string"
      ],
      "metadata": {
        "id": "uS2JUTU0AMFM"
      }
    },
    {
      "cell_type": "code",
      "source": [
        "# Renombramiento de columnas\n",
        "colRenom = {'Unnamed: 0':'Useless',\n",
        "            'Unnamed: 1':'Fecha',\n",
        "            'Unnamed: 2':'Planta',\n",
        "            'Unnamed: 3':'Generador',\n",
        "            'Unnamed: 4':'Capacidad',\n",
        "            'Unnamed: 5':'Codigo'}\n",
        "\n",
        "dfArchivoCapacidad = dfArchivoCapacidad.rename(columns=colRenom).astype(str)\n",
        "dfArchivoCapacidad.head(10).style"
      ],
      "metadata": {
        "id": "j0HlPQP31RuS",
        "colab": {
          "base_uri": "https://localhost:8080/",
          "height": 363
        },
        "outputId": "e811cbec-913d-44cb-edba-775d7effce7e",
        "collapsed": true
      },
      "execution_count": null,
      "outputs": [
        {
          "output_type": "execute_result",
          "data": {
            "text/plain": [
              "<pandas.io.formats.style.Styler at 0x7d1080174d90>"
            ],
            "text/html": [
              "<style type=\"text/css\">\n",
              "</style>\n",
              "<table id=\"T_d05e4\" class=\"dataframe\">\n",
              "  <thead>\n",
              "    <tr>\n",
              "      <th class=\"blank level0\" >&nbsp;</th>\n",
              "      <th id=\"T_d05e4_level0_col0\" class=\"col_heading level0 col0\" >Useless</th>\n",
              "      <th id=\"T_d05e4_level0_col1\" class=\"col_heading level0 col1\" >Fecha</th>\n",
              "      <th id=\"T_d05e4_level0_col2\" class=\"col_heading level0 col2\" >Planta</th>\n",
              "      <th id=\"T_d05e4_level0_col3\" class=\"col_heading level0 col3\" >Generador</th>\n",
              "      <th id=\"T_d05e4_level0_col4\" class=\"col_heading level0 col4\" >Capacidad</th>\n",
              "      <th id=\"T_d05e4_level0_col5\" class=\"col_heading level0 col5\" >Codigo</th>\n",
              "    </tr>\n",
              "  </thead>\n",
              "  <tbody>\n",
              "    <tr>\n",
              "      <th id=\"T_d05e4_level0_row0\" class=\"row_heading level0 row0\" >0</th>\n",
              "      <td id=\"T_d05e4_row0_col0\" class=\"data row0 col0\" >nan</td>\n",
              "      <td id=\"T_d05e4_row0_col1\" class=\"data row0 col1\" >Programa de Generación por Planta</td>\n",
              "      <td id=\"T_d05e4_row0_col2\" class=\"data row0 col2\" >nan</td>\n",
              "      <td id=\"T_d05e4_row0_col3\" class=\"data row0 col3\" >nan</td>\n",
              "      <td id=\"T_d05e4_row0_col4\" class=\"data row0 col4\" >nan</td>\n",
              "      <td id=\"T_d05e4_row0_col5\" class=\"data row0 col5\" >nan</td>\n",
              "    </tr>\n",
              "    <tr>\n",
              "      <th id=\"T_d05e4_level0_row1\" class=\"row_heading level0 row1\" >1</th>\n",
              "      <td id=\"T_d05e4_row1_col0\" class=\"data row1 col0\" >nan</td>\n",
              "      <td id=\"T_d05e4_row1_col1\" class=\"data row1 col1\" >Empresa Generadora ACME S.A. E.S.P.</td>\n",
              "      <td id=\"T_d05e4_row1_col2\" class=\"data row1 col2\" >nan</td>\n",
              "      <td id=\"T_d05e4_row1_col3\" class=\"data row1 col3\" >nan</td>\n",
              "      <td id=\"T_d05e4_row1_col4\" class=\"data row1 col4\" >nan</td>\n",
              "      <td id=\"T_d05e4_row1_col5\" class=\"data row1 col5\" >nan</td>\n",
              "    </tr>\n",
              "    <tr>\n",
              "      <th id=\"T_d05e4_level0_row2\" class=\"row_heading level0 row2\" >2</th>\n",
              "      <td id=\"T_d05e4_row2_col0\" class=\"data row2 col0\" >nan</td>\n",
              "      <td id=\"T_d05e4_row2_col1\" class=\"data row2 col1\" >Despacho Real 10/07/2024</td>\n",
              "      <td id=\"T_d05e4_row2_col2\" class=\"data row2 col2\" >nan</td>\n",
              "      <td id=\"T_d05e4_row2_col3\" class=\"data row2 col3\" >nan</td>\n",
              "      <td id=\"T_d05e4_row2_col4\" class=\"data row2 col4\" >nan</td>\n",
              "      <td id=\"T_d05e4_row2_col5\" class=\"data row2 col5\" >nan</td>\n",
              "    </tr>\n",
              "    <tr>\n",
              "      <th id=\"T_d05e4_level0_row3\" class=\"row_heading level0 row3\" >3</th>\n",
              "      <td id=\"T_d05e4_row3_col0\" class=\"data row3 col0\" >nan</td>\n",
              "      <td id=\"T_d05e4_row3_col1\" class=\"data row3 col1\" >nan</td>\n",
              "      <td id=\"T_d05e4_row3_col2\" class=\"data row3 col2\" >nan</td>\n",
              "      <td id=\"T_d05e4_row3_col3\" class=\"data row3 col3\" >nan</td>\n",
              "      <td id=\"T_d05e4_row3_col4\" class=\"data row3 col4\" >nan</td>\n",
              "      <td id=\"T_d05e4_row3_col5\" class=\"data row3 col5\" >nan</td>\n",
              "    </tr>\n",
              "    <tr>\n",
              "      <th id=\"T_d05e4_level0_row4\" class=\"row_heading level0 row4\" >4</th>\n",
              "      <td id=\"T_d05e4_row4_col0\" class=\"data row4 col0\" >nan</td>\n",
              "      <td id=\"T_d05e4_row4_col1\" class=\"data row4 col1\" >FECHA</td>\n",
              "      <td id=\"T_d05e4_row4_col2\" class=\"data row4 col2\" >PLANTA</td>\n",
              "      <td id=\"T_d05e4_row4_col3\" class=\"data row4 col3\" >GENERADOR</td>\n",
              "      <td id=\"T_d05e4_row4_col4\" class=\"data row4 col4\" >CAPACIDAD (Kwh)</td>\n",
              "      <td id=\"T_d05e4_row4_col5\" class=\"data row4 col5\" >CODIGO</td>\n",
              "    </tr>\n",
              "    <tr>\n",
              "      <th id=\"T_d05e4_level0_row5\" class=\"row_heading level0 row5\" >5</th>\n",
              "      <td id=\"T_d05e4_row5_col0\" class=\"data row5 col0\" >nan</td>\n",
              "      <td id=\"T_d05e4_row5_col1\" class=\"data row5 col1\" >2024-07-10 00:00:00</td>\n",
              "      <td id=\"T_d05e4_row5_col2\" class=\"data row5 col2\" >TERMOZIPA</td>\n",
              "      <td id=\"T_d05e4_row5_col3\" class=\"data row5 col3\" >2</td>\n",
              "      <td id=\"T_d05e4_row5_col4\" class=\"data row5 col4\" >33000</td>\n",
              "      <td id=\"T_d05e4_row5_col5\" class=\"data row5 col5\" >ZPA2</td>\n",
              "    </tr>\n",
              "    <tr>\n",
              "      <th id=\"T_d05e4_level0_row6\" class=\"row_heading level0 row6\" >6</th>\n",
              "      <td id=\"T_d05e4_row6_col0\" class=\"data row6 col0\" >nan</td>\n",
              "      <td id=\"T_d05e4_row6_col1\" class=\"data row6 col1\" >2024-07-10 01:00:00</td>\n",
              "      <td id=\"T_d05e4_row6_col2\" class=\"data row6 col2\" >TERMOZIPA</td>\n",
              "      <td id=\"T_d05e4_row6_col3\" class=\"data row6 col3\" >2</td>\n",
              "      <td id=\"T_d05e4_row6_col4\" class=\"data row6 col4\" >33000</td>\n",
              "      <td id=\"T_d05e4_row6_col5\" class=\"data row6 col5\" >ZPA2</td>\n",
              "    </tr>\n",
              "    <tr>\n",
              "      <th id=\"T_d05e4_level0_row7\" class=\"row_heading level0 row7\" >7</th>\n",
              "      <td id=\"T_d05e4_row7_col0\" class=\"data row7 col0\" >nan</td>\n",
              "      <td id=\"T_d05e4_row7_col1\" class=\"data row7 col1\" >2024-07-10 02:00:00</td>\n",
              "      <td id=\"T_d05e4_row7_col2\" class=\"data row7 col2\" >TERMOZIPA</td>\n",
              "      <td id=\"T_d05e4_row7_col3\" class=\"data row7 col3\" >2</td>\n",
              "      <td id=\"T_d05e4_row7_col4\" class=\"data row7 col4\" >33000</td>\n",
              "      <td id=\"T_d05e4_row7_col5\" class=\"data row7 col5\" >ZPA2</td>\n",
              "    </tr>\n",
              "    <tr>\n",
              "      <th id=\"T_d05e4_level0_row8\" class=\"row_heading level0 row8\" >8</th>\n",
              "      <td id=\"T_d05e4_row8_col0\" class=\"data row8 col0\" >nan</td>\n",
              "      <td id=\"T_d05e4_row8_col1\" class=\"data row8 col1\" >2024-07-10 03:00:00</td>\n",
              "      <td id=\"T_d05e4_row8_col2\" class=\"data row8 col2\" >TERMOZIPA</td>\n",
              "      <td id=\"T_d05e4_row8_col3\" class=\"data row8 col3\" >2</td>\n",
              "      <td id=\"T_d05e4_row8_col4\" class=\"data row8 col4\" >33000</td>\n",
              "      <td id=\"T_d05e4_row8_col5\" class=\"data row8 col5\" >ZPA2</td>\n",
              "    </tr>\n",
              "    <tr>\n",
              "      <th id=\"T_d05e4_level0_row9\" class=\"row_heading level0 row9\" >9</th>\n",
              "      <td id=\"T_d05e4_row9_col0\" class=\"data row9 col0\" >nan</td>\n",
              "      <td id=\"T_d05e4_row9_col1\" class=\"data row9 col1\" >2024-07-10 04:00:00</td>\n",
              "      <td id=\"T_d05e4_row9_col2\" class=\"data row9 col2\" >TERMOZIPA</td>\n",
              "      <td id=\"T_d05e4_row9_col3\" class=\"data row9 col3\" >2</td>\n",
              "      <td id=\"T_d05e4_row9_col4\" class=\"data row9 col4\" >20834</td>\n",
              "      <td id=\"T_d05e4_row9_col5\" class=\"data row9 col5\" >ZPA2</td>\n",
              "    </tr>\n",
              "  </tbody>\n",
              "</table>\n"
            ]
          },
          "metadata": {},
          "execution_count": 16
        }
      ]
    },
    {
      "cell_type": "markdown",
      "source": [
        "Se elimina la información innecesaria del archivo de capacidad real"
      ],
      "metadata": {
        "id": "kiHMjbvhsxbE"
      }
    },
    {
      "cell_type": "code",
      "source": [
        "# Eliminar filas innecesarias antes de la fila 4 (donde están los encabezados reales)\n",
        "dfArchivoCapacidad = dfArchivoCapacidad.drop([0, 1, 2, 3, 4])\n",
        "\n",
        "# Eliminar la columna 'Useless' que no es necesaria\n",
        "dfArchivoCapacidad = dfArchivoCapacidad.drop(columns=['Useless'])\n",
        "\n",
        "# Resetear los índices del dataframe\n",
        "dfArchivoCapacidad = dfArchivoCapacidad.reset_index(drop=True)\n",
        "\n",
        "# Mostrar el dataframe limpio\n",
        "dfArchivoCapacidad.head(10).style"
      ],
      "metadata": {
        "colab": {
          "base_uri": "https://localhost:8080/",
          "height": 363
        },
        "id": "JYPC4IBLCY3A",
        "outputId": "f85f749d-73d0-4250-dd8e-0b509b07844f"
      },
      "execution_count": null,
      "outputs": [
        {
          "output_type": "execute_result",
          "data": {
            "text/plain": [
              "<pandas.io.formats.style.Styler at 0x7d1080174ca0>"
            ],
            "text/html": [
              "<style type=\"text/css\">\n",
              "</style>\n",
              "<table id=\"T_bf7c4\" class=\"dataframe\">\n",
              "  <thead>\n",
              "    <tr>\n",
              "      <th class=\"blank level0\" >&nbsp;</th>\n",
              "      <th id=\"T_bf7c4_level0_col0\" class=\"col_heading level0 col0\" >Fecha</th>\n",
              "      <th id=\"T_bf7c4_level0_col1\" class=\"col_heading level0 col1\" >Planta</th>\n",
              "      <th id=\"T_bf7c4_level0_col2\" class=\"col_heading level0 col2\" >Generador</th>\n",
              "      <th id=\"T_bf7c4_level0_col3\" class=\"col_heading level0 col3\" >Capacidad</th>\n",
              "      <th id=\"T_bf7c4_level0_col4\" class=\"col_heading level0 col4\" >Codigo</th>\n",
              "    </tr>\n",
              "  </thead>\n",
              "  <tbody>\n",
              "    <tr>\n",
              "      <th id=\"T_bf7c4_level0_row0\" class=\"row_heading level0 row0\" >0</th>\n",
              "      <td id=\"T_bf7c4_row0_col0\" class=\"data row0 col0\" >2024-07-10 00:00:00</td>\n",
              "      <td id=\"T_bf7c4_row0_col1\" class=\"data row0 col1\" >TERMOZIPA</td>\n",
              "      <td id=\"T_bf7c4_row0_col2\" class=\"data row0 col2\" >2</td>\n",
              "      <td id=\"T_bf7c4_row0_col3\" class=\"data row0 col3\" >33000</td>\n",
              "      <td id=\"T_bf7c4_row0_col4\" class=\"data row0 col4\" >ZPA2</td>\n",
              "    </tr>\n",
              "    <tr>\n",
              "      <th id=\"T_bf7c4_level0_row1\" class=\"row_heading level0 row1\" >1</th>\n",
              "      <td id=\"T_bf7c4_row1_col0\" class=\"data row1 col0\" >2024-07-10 01:00:00</td>\n",
              "      <td id=\"T_bf7c4_row1_col1\" class=\"data row1 col1\" >TERMOZIPA</td>\n",
              "      <td id=\"T_bf7c4_row1_col2\" class=\"data row1 col2\" >2</td>\n",
              "      <td id=\"T_bf7c4_row1_col3\" class=\"data row1 col3\" >33000</td>\n",
              "      <td id=\"T_bf7c4_row1_col4\" class=\"data row1 col4\" >ZPA2</td>\n",
              "    </tr>\n",
              "    <tr>\n",
              "      <th id=\"T_bf7c4_level0_row2\" class=\"row_heading level0 row2\" >2</th>\n",
              "      <td id=\"T_bf7c4_row2_col0\" class=\"data row2 col0\" >2024-07-10 02:00:00</td>\n",
              "      <td id=\"T_bf7c4_row2_col1\" class=\"data row2 col1\" >TERMOZIPA</td>\n",
              "      <td id=\"T_bf7c4_row2_col2\" class=\"data row2 col2\" >2</td>\n",
              "      <td id=\"T_bf7c4_row2_col3\" class=\"data row2 col3\" >33000</td>\n",
              "      <td id=\"T_bf7c4_row2_col4\" class=\"data row2 col4\" >ZPA2</td>\n",
              "    </tr>\n",
              "    <tr>\n",
              "      <th id=\"T_bf7c4_level0_row3\" class=\"row_heading level0 row3\" >3</th>\n",
              "      <td id=\"T_bf7c4_row3_col0\" class=\"data row3 col0\" >2024-07-10 03:00:00</td>\n",
              "      <td id=\"T_bf7c4_row3_col1\" class=\"data row3 col1\" >TERMOZIPA</td>\n",
              "      <td id=\"T_bf7c4_row3_col2\" class=\"data row3 col2\" >2</td>\n",
              "      <td id=\"T_bf7c4_row3_col3\" class=\"data row3 col3\" >33000</td>\n",
              "      <td id=\"T_bf7c4_row3_col4\" class=\"data row3 col4\" >ZPA2</td>\n",
              "    </tr>\n",
              "    <tr>\n",
              "      <th id=\"T_bf7c4_level0_row4\" class=\"row_heading level0 row4\" >4</th>\n",
              "      <td id=\"T_bf7c4_row4_col0\" class=\"data row4 col0\" >2024-07-10 04:00:00</td>\n",
              "      <td id=\"T_bf7c4_row4_col1\" class=\"data row4 col1\" >TERMOZIPA</td>\n",
              "      <td id=\"T_bf7c4_row4_col2\" class=\"data row4 col2\" >2</td>\n",
              "      <td id=\"T_bf7c4_row4_col3\" class=\"data row4 col3\" >20834</td>\n",
              "      <td id=\"T_bf7c4_row4_col4\" class=\"data row4 col4\" >ZPA2</td>\n",
              "    </tr>\n",
              "    <tr>\n",
              "      <th id=\"T_bf7c4_level0_row5\" class=\"row_heading level0 row5\" >5</th>\n",
              "      <td id=\"T_bf7c4_row5_col0\" class=\"data row5 col0\" >2024-07-10 05:00:00</td>\n",
              "      <td id=\"T_bf7c4_row5_col1\" class=\"data row5 col1\" >TERMOZIPA</td>\n",
              "      <td id=\"T_bf7c4_row5_col2\" class=\"data row5 col2\" >2</td>\n",
              "      <td id=\"T_bf7c4_row5_col3\" class=\"data row5 col3\" >21626</td>\n",
              "      <td id=\"T_bf7c4_row5_col4\" class=\"data row5 col4\" >ZPA2</td>\n",
              "    </tr>\n",
              "    <tr>\n",
              "      <th id=\"T_bf7c4_level0_row6\" class=\"row_heading level0 row6\" >6</th>\n",
              "      <td id=\"T_bf7c4_row6_col0\" class=\"data row6 col0\" >2024-07-10 06:00:00</td>\n",
              "      <td id=\"T_bf7c4_row6_col1\" class=\"data row6 col1\" >TERMOZIPA</td>\n",
              "      <td id=\"T_bf7c4_row6_col2\" class=\"data row6 col2\" >2</td>\n",
              "      <td id=\"T_bf7c4_row6_col3\" class=\"data row6 col3\" >26030</td>\n",
              "      <td id=\"T_bf7c4_row6_col4\" class=\"data row6 col4\" >ZPA2</td>\n",
              "    </tr>\n",
              "    <tr>\n",
              "      <th id=\"T_bf7c4_level0_row7\" class=\"row_heading level0 row7\" >7</th>\n",
              "      <td id=\"T_bf7c4_row7_col0\" class=\"data row7 col0\" >2024-07-10 07:00:00</td>\n",
              "      <td id=\"T_bf7c4_row7_col1\" class=\"data row7 col1\" >TERMOZIPA</td>\n",
              "      <td id=\"T_bf7c4_row7_col2\" class=\"data row7 col2\" >2</td>\n",
              "      <td id=\"T_bf7c4_row7_col3\" class=\"data row7 col3\" >33000</td>\n",
              "      <td id=\"T_bf7c4_row7_col4\" class=\"data row7 col4\" >ZPA2</td>\n",
              "    </tr>\n",
              "    <tr>\n",
              "      <th id=\"T_bf7c4_level0_row8\" class=\"row_heading level0 row8\" >8</th>\n",
              "      <td id=\"T_bf7c4_row8_col0\" class=\"data row8 col0\" >2024-07-10 08:00:00</td>\n",
              "      <td id=\"T_bf7c4_row8_col1\" class=\"data row8 col1\" >TERMOZIPA</td>\n",
              "      <td id=\"T_bf7c4_row8_col2\" class=\"data row8 col2\" >2</td>\n",
              "      <td id=\"T_bf7c4_row8_col3\" class=\"data row8 col3\" >33000</td>\n",
              "      <td id=\"T_bf7c4_row8_col4\" class=\"data row8 col4\" >ZPA2</td>\n",
              "    </tr>\n",
              "    <tr>\n",
              "      <th id=\"T_bf7c4_level0_row9\" class=\"row_heading level0 row9\" >9</th>\n",
              "      <td id=\"T_bf7c4_row9_col0\" class=\"data row9 col0\" >2024-07-10 09:00:00</td>\n",
              "      <td id=\"T_bf7c4_row9_col1\" class=\"data row9 col1\" >TERMOZIPA</td>\n",
              "      <td id=\"T_bf7c4_row9_col2\" class=\"data row9 col2\" >2</td>\n",
              "      <td id=\"T_bf7c4_row9_col3\" class=\"data row9 col3\" >33000</td>\n",
              "      <td id=\"T_bf7c4_row9_col4\" class=\"data row9 col4\" >ZPA2</td>\n",
              "    </tr>\n",
              "  </tbody>\n",
              "</table>\n"
            ]
          },
          "metadata": {},
          "execution_count": 17
        }
      ]
    },
    {
      "cell_type": "markdown",
      "source": [
        "Se hace validación de formatos y verificación de los valores contenidos en el dataframe de la capacidad real de las generadoras."
      ],
      "metadata": {
        "id": "s0_skWKrruXp"
      }
    },
    {
      "cell_type": "code",
      "source": [
        "def validar_fecha(fecha):\n",
        "    patron = r'^\\d{4}-\\d{2}-\\d{2} \\d{2}:\\d{2}:\\d{2}$'\n",
        "    return bool(re.match(patron, fecha))\n",
        "\n",
        "def validar_generador(generador):\n",
        "    try:\n",
        "        int(generador)\n",
        "        return True\n",
        "    except ValueError:\n",
        "        return False\n",
        "\n",
        "def validar_capacidad(capacidad):\n",
        "    try:\n",
        "        int(capacidad)\n",
        "        if int(capacidad) > 0: return True\n",
        "        else: return False\n",
        "    except ValueError:\n",
        "        return False\n",
        "\n",
        "\n",
        "\n",
        "# Se aplican las funciones de validación a los valores de las columnas correspondientes\n",
        "\n",
        "dfArchivoCapacidad['Fecha_valida'] = dfArchivoCapacidad['Fecha'].apply(validar_fecha)\n",
        "dfArchivoCapacidad['Generador_valido'] = dfArchivoCapacidad['Generador'].apply(validar_generador)\n",
        "dfArchivoCapacidad['Capacidad_valida'] = dfArchivoCapacidad['Capacidad'].apply(validar_capacidad)\n",
        "\n",
        "# Se filtran las filas que no cumplen con el formato de fecha y las condiciones del generador\n",
        "fechas_invalidas = dfArchivoCapacidad[~dfArchivoCapacidad['Fecha_valida']]\n",
        "generadores_invalidos = dfArchivoCapacidad[~dfArchivoCapacidad['Generador_valido']]\n",
        "capacidades_invalidas = dfArchivoCapacidad[~dfArchivoCapacidad['Capacidad_valida']]\n",
        "\n",
        "# Captura de error y reporte al usuario\n",
        "if not fechas_invalidas.empty:\n",
        "    print(\"Fechas con formato incorrecto. Por favor revisar el archivo\")\n",
        "    print(fechas_invalidas)\n",
        "\n",
        "elif not generadores_invalidos.empty:\n",
        "    print(\"Generadores con formato incorrecto. Por favor revisar el archivo\")\n",
        "    print(generadores_invalidos)\n",
        "\n",
        "elif not capacidades_invalidas.empty:\n",
        "    print(\"Capacidades invalidas. Por favor revisar el archivo\")\n",
        "    print(capacidades_invalidas)\n",
        "\n",
        "else:\n",
        "\n",
        "    # Se filtran las filas que cumplen con todas las validaciones\n",
        "    df_validado = dfArchivoCapacidad[(dfArchivoCapacidad['Fecha_valida']) &\n",
        "                                    (dfArchivoCapacidad['Generador_valido']) &\n",
        "                                    (dfArchivoCapacidad['Fecha'] >= fecha_inicio) &\n",
        "                                    (dfArchivoCapacidad['Fecha'] <= fecha_fin)]\n",
        "\n",
        "    # Se procede a dividir la columna Fecha y crear el dataframe limpio\n",
        "    df_validado['Año'] = pd.to_datetime(dfArchivoCapacidad['Fecha']).dt.year\n",
        "    df_validado['Mes'] = pd.to_datetime(dfArchivoCapacidad['Fecha']).dt.month\n",
        "    df_validado['Día'] = pd.to_datetime(dfArchivoCapacidad['Fecha']).dt.day\n",
        "    df_validado['Hora'] = pd.to_datetime(dfArchivoCapacidad['Fecha']).dt.hour\n",
        "\n",
        "    # Se eliminan las columnas de validación\n",
        "    df_validado = df_validado.drop(columns=['Fecha_valida', 'Generador_valido'])\n",
        "\n",
        "    # Selección de las columnas necesarias\n",
        "    dfArchivoCapacidadLimpio = df_validado[['Año', 'Mes', 'Día', 'Hora', 'Codigo', 'Capacidad']]\n",
        "\n",
        "    print(dfArchivoCapacidadLimpio)"
      ],
      "metadata": {
        "id": "JM34PHvE8jBf",
        "colab": {
          "base_uri": "https://localhost:8080/"
        },
        "outputId": "a730859e-7628-4009-9454-ad4126ab77b8"
      },
      "execution_count": 27,
      "outputs": [
        {
          "output_type": "stream",
          "name": "stdout",
          "text": [
            "      Año  Mes  Día  Hora Codigo Capacidad\n",
            "0    2024    7   10     0   ZPA2     33000\n",
            "1    2024    7   10     1   ZPA2     33000\n",
            "2    2024    7   10     2   ZPA2     33000\n",
            "3    2024    7   10     3   ZPA2     33000\n",
            "4    2024    7   10     4   ZPA2     20834\n",
            "..    ...  ...  ...   ...    ...       ...\n",
            "139  2024    7   10    19   QUI1    284650\n",
            "140  2024    7   10    20   QUI1    276992\n",
            "141  2024    7   10    21   QUI1    340000\n",
            "142  2024    7   10    22   QUI1    340000\n",
            "143  2024    7   10    23   QUI1    340000\n",
            "\n",
            "[144 rows x 6 columns]\n"
          ]
        }
      ]
    },
    {
      "cell_type": "markdown",
      "source": [
        "Separación de la fecha, renombramiento y extracción de las columnas necesarias en el dataframe de la capacidad que XM solicita"
      ],
      "metadata": {
        "id": "NZ4OJom8sUv0"
      }
    },
    {
      "cell_type": "code",
      "source": [
        "dfCapacidadDespachosAcme['dia_despacho'] = pd.to_datetime(dfCapacidadDespachosAcme['FechaHora']).dt.day\n",
        "dfCapacidadDespachosAcme['mes_despacho'] = pd.to_datetime(dfCapacidadDespachosAcme['FechaHora']).dt.month\n",
        "dfCapacidadDespachosAcme['anio_despacho'] = pd.to_datetime(dfCapacidadDespachosAcme['FechaHora']).dt.year\n",
        "dfCapacidadDespachosAcme['hora_despacho'] = pd.to_datetime(dfCapacidadDespachosAcme['FechaHora']).dt.hour\n",
        "\n",
        "dfCapacidadDespachosAcme = dfCapacidadDespachosAcme.rename(columns={'Valor':'capacidad', 'CodigoPlanta':'codigo'})\n",
        "dfDespachosAcmeTransformado = dfCapacidadDespachosAcme[['dia_despacho', 'mes_despacho', 'anio_despacho', 'hora_despacho', 'capacidad', 'codigo']]\n",
        "\n",
        "\n",
        "dfDespachosAcmeTransformado.head(10).style"
      ],
      "metadata": {
        "colab": {
          "base_uri": "https://localhost:8080/",
          "height": 363
        },
        "id": "Mprwvk-7nCVX",
        "outputId": "6839e5f5-e69e-4542-90b0-9bc8ae47fccc"
      },
      "execution_count": 22,
      "outputs": [
        {
          "output_type": "execute_result",
          "data": {
            "text/plain": [
              "<pandas.io.formats.style.Styler at 0x7d107ff48280>"
            ],
            "text/html": [
              "<style type=\"text/css\">\n",
              "</style>\n",
              "<table id=\"T_a140f\" class=\"dataframe\">\n",
              "  <thead>\n",
              "    <tr>\n",
              "      <th class=\"blank level0\" >&nbsp;</th>\n",
              "      <th id=\"T_a140f_level0_col0\" class=\"col_heading level0 col0\" >dia_despacho</th>\n",
              "      <th id=\"T_a140f_level0_col1\" class=\"col_heading level0 col1\" >mes_despacho</th>\n",
              "      <th id=\"T_a140f_level0_col2\" class=\"col_heading level0 col2\" >anio_despacho</th>\n",
              "      <th id=\"T_a140f_level0_col3\" class=\"col_heading level0 col3\" >hora_despacho</th>\n",
              "      <th id=\"T_a140f_level0_col4\" class=\"col_heading level0 col4\" >capacidad</th>\n",
              "      <th id=\"T_a140f_level0_col5\" class=\"col_heading level0 col5\" >codigo</th>\n",
              "    </tr>\n",
              "  </thead>\n",
              "  <tbody>\n",
              "    <tr>\n",
              "      <th id=\"T_a140f_level0_row0\" class=\"row_heading level0 row0\" >0</th>\n",
              "      <td id=\"T_a140f_row0_col0\" class=\"data row0 col0\" >20</td>\n",
              "      <td id=\"T_a140f_row0_col1\" class=\"data row0 col1\" >7</td>\n",
              "      <td id=\"T_a140f_row0_col2\" class=\"data row0 col2\" >2024</td>\n",
              "      <td id=\"T_a140f_row0_col3\" class=\"data row0 col3\" >13</td>\n",
              "      <td id=\"T_a140f_row0_col4\" class=\"data row0 col4\" >79000.000000</td>\n",
              "      <td id=\"T_a140f_row0_col5\" class=\"data row0 col5\" >QUI1</td>\n",
              "    </tr>\n",
              "    <tr>\n",
              "      <th id=\"T_a140f_level0_row1\" class=\"row_heading level0 row1\" >1</th>\n",
              "      <td id=\"T_a140f_row1_col0\" class=\"data row1 col0\" >20</td>\n",
              "      <td id=\"T_a140f_row1_col1\" class=\"data row1 col1\" >7</td>\n",
              "      <td id=\"T_a140f_row1_col2\" class=\"data row1 col2\" >2024</td>\n",
              "      <td id=\"T_a140f_row1_col3\" class=\"data row1 col3\" >14</td>\n",
              "      <td id=\"T_a140f_row1_col4\" class=\"data row1 col4\" >79000.000000</td>\n",
              "      <td id=\"T_a140f_row1_col5\" class=\"data row1 col5\" >QUI1</td>\n",
              "    </tr>\n",
              "    <tr>\n",
              "      <th id=\"T_a140f_level0_row2\" class=\"row_heading level0 row2\" >2</th>\n",
              "      <td id=\"T_a140f_row2_col0\" class=\"data row2 col0\" >20</td>\n",
              "      <td id=\"T_a140f_row2_col1\" class=\"data row2 col1\" >7</td>\n",
              "      <td id=\"T_a140f_row2_col2\" class=\"data row2 col2\" >2024</td>\n",
              "      <td id=\"T_a140f_row2_col3\" class=\"data row2 col3\" >14</td>\n",
              "      <td id=\"T_a140f_row2_col4\" class=\"data row2 col4\" >573380.000000</td>\n",
              "      <td id=\"T_a140f_row2_col5\" class=\"data row2 col5\" >GVIO</td>\n",
              "    </tr>\n",
              "    <tr>\n",
              "      <th id=\"T_a140f_level0_row3\" class=\"row_heading level0 row3\" >3</th>\n",
              "      <td id=\"T_a140f_row3_col0\" class=\"data row3 col0\" >20</td>\n",
              "      <td id=\"T_a140f_row3_col1\" class=\"data row3 col1\" >7</td>\n",
              "      <td id=\"T_a140f_row3_col2\" class=\"data row3 col2\" >2024</td>\n",
              "      <td id=\"T_a140f_row3_col3\" class=\"data row3 col3\" >12</td>\n",
              "      <td id=\"T_a140f_row3_col4\" class=\"data row3 col4\" >79000.000000</td>\n",
              "      <td id=\"T_a140f_row3_col5\" class=\"data row3 col5\" >QUI1</td>\n",
              "    </tr>\n",
              "    <tr>\n",
              "      <th id=\"T_a140f_level0_row4\" class=\"row_heading level0 row4\" >4</th>\n",
              "      <td id=\"T_a140f_row4_col0\" class=\"data row4 col0\" >20</td>\n",
              "      <td id=\"T_a140f_row4_col1\" class=\"data row4 col1\" >7</td>\n",
              "      <td id=\"T_a140f_row4_col2\" class=\"data row4 col2\" >2024</td>\n",
              "      <td id=\"T_a140f_row4_col3\" class=\"data row4 col3\" >13</td>\n",
              "      <td id=\"T_a140f_row4_col4\" class=\"data row4 col4\" >121450.000000</td>\n",
              "      <td id=\"T_a140f_row4_col5\" class=\"data row4 col5\" >GVIO</td>\n",
              "    </tr>\n",
              "    <tr>\n",
              "      <th id=\"T_a140f_level0_row5\" class=\"row_heading level0 row5\" >5</th>\n",
              "      <td id=\"T_a140f_row5_col0\" class=\"data row5 col0\" >20</td>\n",
              "      <td id=\"T_a140f_row5_col1\" class=\"data row5 col1\" >7</td>\n",
              "      <td id=\"T_a140f_row5_col2\" class=\"data row5 col2\" >2024</td>\n",
              "      <td id=\"T_a140f_row5_col3\" class=\"data row5 col3\" >12</td>\n",
              "      <td id=\"T_a140f_row5_col4\" class=\"data row5 col4\" >0.000000</td>\n",
              "      <td id=\"T_a140f_row5_col5\" class=\"data row5 col5\" >ZPA2</td>\n",
              "    </tr>\n",
              "    <tr>\n",
              "      <th id=\"T_a140f_level0_row6\" class=\"row_heading level0 row6\" >6</th>\n",
              "      <td id=\"T_a140f_row6_col0\" class=\"data row6 col0\" >20</td>\n",
              "      <td id=\"T_a140f_row6_col1\" class=\"data row6 col1\" >7</td>\n",
              "      <td id=\"T_a140f_row6_col2\" class=\"data row6 col2\" >2024</td>\n",
              "      <td id=\"T_a140f_row6_col3\" class=\"data row6 col3\" >12</td>\n",
              "      <td id=\"T_a140f_row6_col4\" class=\"data row6 col4\" >48000.000000</td>\n",
              "      <td id=\"T_a140f_row6_col5\" class=\"data row6 col5\" >ZPA3</td>\n",
              "    </tr>\n",
              "    <tr>\n",
              "      <th id=\"T_a140f_level0_row7\" class=\"row_heading level0 row7\" >7</th>\n",
              "      <td id=\"T_a140f_row7_col0\" class=\"data row7 col0\" >20</td>\n",
              "      <td id=\"T_a140f_row7_col1\" class=\"data row7 col1\" >7</td>\n",
              "      <td id=\"T_a140f_row7_col2\" class=\"data row7 col2\" >2024</td>\n",
              "      <td id=\"T_a140f_row7_col3\" class=\"data row7 col3\" >12</td>\n",
              "      <td id=\"T_a140f_row7_col4\" class=\"data row7 col4\" >48000.000000</td>\n",
              "      <td id=\"T_a140f_row7_col5\" class=\"data row7 col5\" >ZPA4</td>\n",
              "    </tr>\n",
              "    <tr>\n",
              "      <th id=\"T_a140f_level0_row8\" class=\"row_heading level0 row8\" >8</th>\n",
              "      <td id=\"T_a140f_row8_col0\" class=\"data row8 col0\" >20</td>\n",
              "      <td id=\"T_a140f_row8_col1\" class=\"data row8 col1\" >7</td>\n",
              "      <td id=\"T_a140f_row8_col2\" class=\"data row8 col2\" >2024</td>\n",
              "      <td id=\"T_a140f_row8_col3\" class=\"data row8 col3\" >12</td>\n",
              "      <td id=\"T_a140f_row8_col4\" class=\"data row8 col4\" >0.000000</td>\n",
              "      <td id=\"T_a140f_row8_col5\" class=\"data row8 col5\" >ZPA5</td>\n",
              "    </tr>\n",
              "    <tr>\n",
              "      <th id=\"T_a140f_level0_row9\" class=\"row_heading level0 row9\" >9</th>\n",
              "      <td id=\"T_a140f_row9_col0\" class=\"data row9 col0\" >20</td>\n",
              "      <td id=\"T_a140f_row9_col1\" class=\"data row9 col1\" >7</td>\n",
              "      <td id=\"T_a140f_row9_col2\" class=\"data row9 col2\" >2024</td>\n",
              "      <td id=\"T_a140f_row9_col3\" class=\"data row9 col3\" >15</td>\n",
              "      <td id=\"T_a140f_row9_col4\" class=\"data row9 col4\" >0.000000</td>\n",
              "      <td id=\"T_a140f_row9_col5\" class=\"data row9 col5\" >ZPA2</td>\n",
              "    </tr>\n",
              "  </tbody>\n",
              "</table>\n"
            ]
          },
          "metadata": {},
          "execution_count": 22
        }
      ]
    },
    {
      "cell_type": "markdown",
      "source": [
        "Cálculo del balance de energía"
      ],
      "metadata": {
        "id": "egKMxmVPtCgD"
      }
    },
    {
      "cell_type": "code",
      "source": [
        "# Une los DataFrames por las columnas especificadas\n",
        "dfFusionado = pd.merge(dfArchivoCapacidadLimpio, dfDespachosAcmeTransformado,\n",
        "                    left_on=['Codigo', 'Año', 'Mes', 'Día', 'Hora'],\n",
        "                    right_on=['codigo', 'anio_despacho', 'mes_despacho', 'dia_despacho', 'hora_despacho'])\n",
        "\n",
        "# Calcular el balance disponible horario\n",
        "dfFusionado['balance_disponible_horario'] = dfFusionado['Capacidad'].astype(int) - dfFusionado['capacidad'].astype(int)\n",
        "\n",
        "# Agrupa, calcula la suma y resetea el index\n",
        "dfBalanceConsolidado = dfFusionado.groupby(['Año', 'Mes', 'Día', 'Codigo'])['balance_disponible_horario'].sum().reset_index()\n",
        "dfBalanceConsolidado.rename(columns={'balance_disponible_horario': 'consolidado_planta'}, inplace=True)\n",
        "\n",
        "dfBalanceConsolidado.head(10).style"
      ],
      "metadata": {
        "colab": {
          "base_uri": "https://localhost:8080/",
          "height": 237
        },
        "id": "X50K8PoUtLmN",
        "outputId": "7dfef2a0-4a0e-4da9-fb53-83dd4418417b"
      },
      "execution_count": 28,
      "outputs": [
        {
          "output_type": "execute_result",
          "data": {
            "text/plain": [
              "<pandas.io.formats.style.Styler at 0x7d10800f0820>"
            ],
            "text/html": [
              "<style type=\"text/css\">\n",
              "</style>\n",
              "<table id=\"T_97130\" class=\"dataframe\">\n",
              "  <thead>\n",
              "    <tr>\n",
              "      <th class=\"blank level0\" >&nbsp;</th>\n",
              "      <th id=\"T_97130_level0_col0\" class=\"col_heading level0 col0\" >Año</th>\n",
              "      <th id=\"T_97130_level0_col1\" class=\"col_heading level0 col1\" >Mes</th>\n",
              "      <th id=\"T_97130_level0_col2\" class=\"col_heading level0 col2\" >Día</th>\n",
              "      <th id=\"T_97130_level0_col3\" class=\"col_heading level0 col3\" >Codigo</th>\n",
              "      <th id=\"T_97130_level0_col4\" class=\"col_heading level0 col4\" >consolidado_planta</th>\n",
              "    </tr>\n",
              "  </thead>\n",
              "  <tbody>\n",
              "    <tr>\n",
              "      <th id=\"T_97130_level0_row0\" class=\"row_heading level0 row0\" >0</th>\n",
              "      <td id=\"T_97130_row0_col0\" class=\"data row0 col0\" >2024</td>\n",
              "      <td id=\"T_97130_row0_col1\" class=\"data row0 col1\" >7</td>\n",
              "      <td id=\"T_97130_row0_col2\" class=\"data row0 col2\" >10</td>\n",
              "      <td id=\"T_97130_row0_col3\" class=\"data row0 col3\" >GVIO</td>\n",
              "      <td id=\"T_97130_row0_col4\" class=\"data row0 col4\" >11506280</td>\n",
              "    </tr>\n",
              "    <tr>\n",
              "      <th id=\"T_97130_level0_row1\" class=\"row_heading level0 row1\" >1</th>\n",
              "      <td id=\"T_97130_row1_col0\" class=\"data row1 col0\" >2024</td>\n",
              "      <td id=\"T_97130_row1_col1\" class=\"data row1 col1\" >7</td>\n",
              "      <td id=\"T_97130_row1_col2\" class=\"data row1 col2\" >10</td>\n",
              "      <td id=\"T_97130_row1_col3\" class=\"data row1 col3\" >QUI1</td>\n",
              "      <td id=\"T_97130_row1_col4\" class=\"data row1 col4\" >3607414</td>\n",
              "    </tr>\n",
              "    <tr>\n",
              "      <th id=\"T_97130_level0_row2\" class=\"row_heading level0 row2\" >2</th>\n",
              "      <td id=\"T_97130_row2_col0\" class=\"data row2 col0\" >2024</td>\n",
              "      <td id=\"T_97130_row2_col1\" class=\"data row2 col1\" >7</td>\n",
              "      <td id=\"T_97130_row2_col2\" class=\"data row2 col2\" >10</td>\n",
              "      <td id=\"T_97130_row2_col3\" class=\"data row2 col3\" >ZPA2</td>\n",
              "      <td id=\"T_97130_row2_col4\" class=\"data row2 col4\" >201706</td>\n",
              "    </tr>\n",
              "    <tr>\n",
              "      <th id=\"T_97130_level0_row3\" class=\"row_heading level0 row3\" >3</th>\n",
              "      <td id=\"T_97130_row3_col0\" class=\"data row3 col0\" >2024</td>\n",
              "      <td id=\"T_97130_row3_col1\" class=\"data row3 col1\" >7</td>\n",
              "      <td id=\"T_97130_row3_col2\" class=\"data row3 col2\" >10</td>\n",
              "      <td id=\"T_97130_row3_col3\" class=\"data row3 col3\" >ZPA3</td>\n",
              "      <td id=\"T_97130_row3_col4\" class=\"data row3 col4\" >-280652</td>\n",
              "    </tr>\n",
              "    <tr>\n",
              "      <th id=\"T_97130_level0_row4\" class=\"row_heading level0 row4\" >4</th>\n",
              "      <td id=\"T_97130_row4_col0\" class=\"data row4 col0\" >2024</td>\n",
              "      <td id=\"T_97130_row4_col1\" class=\"data row4 col1\" >7</td>\n",
              "      <td id=\"T_97130_row4_col2\" class=\"data row4 col2\" >10</td>\n",
              "      <td id=\"T_97130_row4_col3\" class=\"data row4 col3\" >ZPA4</td>\n",
              "      <td id=\"T_97130_row4_col4\" class=\"data row4 col4\" >-203312</td>\n",
              "    </tr>\n",
              "    <tr>\n",
              "      <th id=\"T_97130_level0_row5\" class=\"row_heading level0 row5\" >5</th>\n",
              "      <td id=\"T_97130_row5_col0\" class=\"data row5 col0\" >2024</td>\n",
              "      <td id=\"T_97130_row5_col1\" class=\"data row5 col1\" >7</td>\n",
              "      <td id=\"T_97130_row5_col2\" class=\"data row5 col2\" >10</td>\n",
              "      <td id=\"T_97130_row5_col3\" class=\"data row5 col3\" >ZPA5</td>\n",
              "      <td id=\"T_97130_row5_col4\" class=\"data row5 col4\" >-362060</td>\n",
              "    </tr>\n",
              "  </tbody>\n",
              "</table>\n"
            ]
          },
          "metadata": {},
          "execution_count": 28
        }
      ]
    },
    {
      "cell_type": "markdown",
      "source": [
        "Cálculo del precio del balance y se agrega la columna de la operación a realizar según el resultado"
      ],
      "metadata": {
        "id": "4RLk8BKl3dUy"
      }
    },
    {
      "cell_type": "code",
      "source": [
        "# Filtra los precios de bolsa por las condiciones especificadas. Los copy es para trabajar sobre copias de los DF\n",
        "dfPreciosFiltrados = dfPreciosBolsa[(dfPreciosBolsa['CodigoVariable'] == 'PPBOGReal') & (dfPreciosBolsa['Version'] == 'TXR')].copy()\n",
        "\n",
        "# Crea columnas de año, mes y día en dfPreciosFiltrados\n",
        "dfPreciosFiltrados.loc[:, 'Año'] = pd.to_datetime(dfPreciosFiltrados['Fecha']).dt.year\n",
        "dfPreciosFiltrados.loc[:, 'Mes'] = pd.to_datetime(dfPreciosFiltrados['Fecha']).dt.month\n",
        "dfPreciosFiltrados.loc[:, 'Día'] = pd.to_datetime(dfPreciosFiltrados['Fecha']).dt.day\n",
        "\n",
        "# Une los DataFrames por las columnas año, mes y dia\n",
        "dfUnido = pd.merge(dfBalanceConsolidado, dfPreciosFiltrados, on=['Año', 'Mes', 'Día'], how='inner')\n",
        "\n",
        "# Calcular Compromisos_MCOP\n",
        "dfUnido['Compromisos_MCOP'] = (dfUnido['consolidado_planta'] * dfUnido['Valor']) / 1000\n",
        "\n",
        "# Seleccionar las columnas deseadas\n",
        "dfReporteCompraVentaEnergiaAcme = dfUnido[['Año', 'Mes', 'Día', 'Codigo', 'consolidado_planta', 'Compromisos_MCOP']].copy()\n",
        "\n",
        "# Crea la nueva columna de Operación\n",
        "# Si los compromisos son menores a 0, hay que comprar energía\n",
        "dfReporteCompraVentaEnergiaAcme['Operacion'] = np.where(dfReporteCompraVentaEnergiaAcme['Compromisos_MCOP'] < 0, 'Comprar', 'Vender')\n",
        "\n",
        "dfReporteCompraVentaEnergiaAcme.rename(columns={'Año': 'Anio', 'Día': 'Dia'}, inplace=True)\n",
        "\n",
        "dfReporteCompraVentaEnergiaAcme.head(10).style\n"
      ],
      "metadata": {
        "colab": {
          "base_uri": "https://localhost:8080/",
          "height": 237
        },
        "id": "gWE8icyS3gV6",
        "outputId": "3be97cb8-a934-477e-94d6-50634bcacd2a"
      },
      "execution_count": 38,
      "outputs": [
        {
          "output_type": "execute_result",
          "data": {
            "text/plain": [
              "<pandas.io.formats.style.Styler at 0x7d10800f3430>"
            ],
            "text/html": [
              "<style type=\"text/css\">\n",
              "</style>\n",
              "<table id=\"T_2a3e2\" class=\"dataframe\">\n",
              "  <thead>\n",
              "    <tr>\n",
              "      <th class=\"blank level0\" >&nbsp;</th>\n",
              "      <th id=\"T_2a3e2_level0_col0\" class=\"col_heading level0 col0\" >Anio</th>\n",
              "      <th id=\"T_2a3e2_level0_col1\" class=\"col_heading level0 col1\" >Mes</th>\n",
              "      <th id=\"T_2a3e2_level0_col2\" class=\"col_heading level0 col2\" >Dia</th>\n",
              "      <th id=\"T_2a3e2_level0_col3\" class=\"col_heading level0 col3\" >Codigo</th>\n",
              "      <th id=\"T_2a3e2_level0_col4\" class=\"col_heading level0 col4\" >consolidado_planta</th>\n",
              "      <th id=\"T_2a3e2_level0_col5\" class=\"col_heading level0 col5\" >Compromisos_MCOP</th>\n",
              "      <th id=\"T_2a3e2_level0_col6\" class=\"col_heading level0 col6\" >Operacion</th>\n",
              "    </tr>\n",
              "  </thead>\n",
              "  <tbody>\n",
              "    <tr>\n",
              "      <th id=\"T_2a3e2_level0_row0\" class=\"row_heading level0 row0\" >0</th>\n",
              "      <td id=\"T_2a3e2_row0_col0\" class=\"data row0 col0\" >2024</td>\n",
              "      <td id=\"T_2a3e2_row0_col1\" class=\"data row0 col1\" >7</td>\n",
              "      <td id=\"T_2a3e2_row0_col2\" class=\"data row0 col2\" >10</td>\n",
              "      <td id=\"T_2a3e2_row0_col3\" class=\"data row0 col3\" >GVIO</td>\n",
              "      <td id=\"T_2a3e2_row0_col4\" class=\"data row0 col4\" >11506280</td>\n",
              "      <td id=\"T_2a3e2_row0_col5\" class=\"data row0 col5\" >2528576.368936</td>\n",
              "      <td id=\"T_2a3e2_row0_col6\" class=\"data row0 col6\" >Vender</td>\n",
              "    </tr>\n",
              "    <tr>\n",
              "      <th id=\"T_2a3e2_level0_row1\" class=\"row_heading level0 row1\" >1</th>\n",
              "      <td id=\"T_2a3e2_row1_col0\" class=\"data row1 col0\" >2024</td>\n",
              "      <td id=\"T_2a3e2_row1_col1\" class=\"data row1 col1\" >7</td>\n",
              "      <td id=\"T_2a3e2_row1_col2\" class=\"data row1 col2\" >10</td>\n",
              "      <td id=\"T_2a3e2_row1_col3\" class=\"data row1 col3\" >QUI1</td>\n",
              "      <td id=\"T_2a3e2_row1_col4\" class=\"data row1 col4\" >3607414</td>\n",
              "      <td id=\"T_2a3e2_row1_col5\" class=\"data row1 col5\" >792751.592467</td>\n",
              "      <td id=\"T_2a3e2_row1_col6\" class=\"data row1 col6\" >Vender</td>\n",
              "    </tr>\n",
              "    <tr>\n",
              "      <th id=\"T_2a3e2_level0_row2\" class=\"row_heading level0 row2\" >2</th>\n",
              "      <td id=\"T_2a3e2_row2_col0\" class=\"data row2 col0\" >2024</td>\n",
              "      <td id=\"T_2a3e2_row2_col1\" class=\"data row2 col1\" >7</td>\n",
              "      <td id=\"T_2a3e2_row2_col2\" class=\"data row2 col2\" >10</td>\n",
              "      <td id=\"T_2a3e2_row2_col3\" class=\"data row2 col3\" >ZPA2</td>\n",
              "      <td id=\"T_2a3e2_row2_col4\" class=\"data row2 col4\" >201706</td>\n",
              "      <td id=\"T_2a3e2_row2_col5\" class=\"data row2 col5\" >44326.144077</td>\n",
              "      <td id=\"T_2a3e2_row2_col6\" class=\"data row2 col6\" >Vender</td>\n",
              "    </tr>\n",
              "    <tr>\n",
              "      <th id=\"T_2a3e2_level0_row3\" class=\"row_heading level0 row3\" >3</th>\n",
              "      <td id=\"T_2a3e2_row3_col0\" class=\"data row3 col0\" >2024</td>\n",
              "      <td id=\"T_2a3e2_row3_col1\" class=\"data row3 col1\" >7</td>\n",
              "      <td id=\"T_2a3e2_row3_col2\" class=\"data row3 col2\" >10</td>\n",
              "      <td id=\"T_2a3e2_row3_col3\" class=\"data row3 col3\" >ZPA3</td>\n",
              "      <td id=\"T_2a3e2_row3_col4\" class=\"data row3 col4\" >-280652</td>\n",
              "      <td id=\"T_2a3e2_row3_col5\" class=\"data row3 col5\" >-61675.017042</td>\n",
              "      <td id=\"T_2a3e2_row3_col6\" class=\"data row3 col6\" >Comprar</td>\n",
              "    </tr>\n",
              "    <tr>\n",
              "      <th id=\"T_2a3e2_level0_row4\" class=\"row_heading level0 row4\" >4</th>\n",
              "      <td id=\"T_2a3e2_row4_col0\" class=\"data row4 col0\" >2024</td>\n",
              "      <td id=\"T_2a3e2_row4_col1\" class=\"data row4 col1\" >7</td>\n",
              "      <td id=\"T_2a3e2_row4_col2\" class=\"data row4 col2\" >10</td>\n",
              "      <td id=\"T_2a3e2_row4_col3\" class=\"data row4 col3\" >ZPA4</td>\n",
              "      <td id=\"T_2a3e2_row4_col4\" class=\"data row4 col4\" >-203312</td>\n",
              "      <td id=\"T_2a3e2_row4_col5\" class=\"data row4 col5\" >-44679.072534</td>\n",
              "      <td id=\"T_2a3e2_row4_col6\" class=\"data row4 col6\" >Comprar</td>\n",
              "    </tr>\n",
              "    <tr>\n",
              "      <th id=\"T_2a3e2_level0_row5\" class=\"row_heading level0 row5\" >5</th>\n",
              "      <td id=\"T_2a3e2_row5_col0\" class=\"data row5 col0\" >2024</td>\n",
              "      <td id=\"T_2a3e2_row5_col1\" class=\"data row5 col1\" >7</td>\n",
              "      <td id=\"T_2a3e2_row5_col2\" class=\"data row5 col2\" >10</td>\n",
              "      <td id=\"T_2a3e2_row5_col3\" class=\"data row5 col3\" >ZPA5</td>\n",
              "      <td id=\"T_2a3e2_row5_col4\" class=\"data row5 col4\" >-362060</td>\n",
              "      <td id=\"T_2a3e2_row5_col5\" class=\"data row5 col5\" >-79564.929772</td>\n",
              "      <td id=\"T_2a3e2_row5_col6\" class=\"data row5 col6\" >Comprar</td>\n",
              "    </tr>\n",
              "  </tbody>\n",
              "</table>\n"
            ]
          },
          "metadata": {},
          "execution_count": 38
        }
      ]
    },
    {
      "cell_type": "markdown",
      "source": [
        "# Carga"
      ],
      "metadata": {
        "id": "JcjsWuTa_CcM"
      }
    },
    {
      "cell_type": "markdown",
      "source": [
        "En las siguientes líneas de código se almacena localmente en el notebook una carpeta que contendrá el archivo"
      ],
      "metadata": {
        "id": "nS4p1-JdHllI"
      }
    },
    {
      "cell_type": "code",
      "source": [
        "ruta_carpeta = 'tmp'\n",
        "os.makedirs(ruta_carpeta, exist_ok=True)\n",
        "dfReporteCompraVentaEnergiaAcme.to_csv(f'{ruta_carpeta}//dfReporteCompraVentaEnergiaAcme.csv', index=False)"
      ],
      "metadata": {
        "id": "-yR7a61NDy9f"
      },
      "execution_count": 39,
      "outputs": []
    },
    {
      "cell_type": "markdown",
      "source": [
        "Inicio de sesión en la plataforma con la API y obtención del token para cargar el archivo"
      ],
      "metadata": {
        "id": "NeaAKoJXHSyA"
      }
    },
    {
      "cell_type": "code",
      "source": [
        "file_upload_access_token = \"\"\n",
        "file_upload_account_id = \"\"\n",
        "params = {'key1': api_key_1, 'key2': api_key_2}\n",
        "response=requests.get(\"https://fastupload.io/api/v2/authorize\", params)\n",
        "json_response = json.loads(response.text)\n",
        "try:\n",
        "  file_upload_access_token = json_response[\"data\"][\"access_token\"]\n",
        "  file_upload_account_id = json_response[\"data\"][\"account_id\"]\n",
        "except:\n",
        "  print(\"Error autenticando y autorizando en el servicio remoto de carga de archivos.\")"
      ],
      "metadata": {
        "id": "YVkh-KgkF1j7"
      },
      "execution_count": 40,
      "outputs": []
    },
    {
      "cell_type": "code",
      "source": [
        "print(file_upload_access_token)"
      ],
      "metadata": {
        "colab": {
          "base_uri": "https://localhost:8080/"
        },
        "id": "vNuY7tauF7_z",
        "outputId": "6a2c90a3-abce-4eb7-99cb-4286bc98d158"
      },
      "execution_count": 41,
      "outputs": [
        {
          "output_type": "stream",
          "name": "stdout",
          "text": [
            "WEfQKPpxfklwF2PmuMLLh3TaGYqTKWYQaQiL8WM9Ttiwo189rHG349YqMoHcRMyN6qopXSopYPfZnIqLXiYvWD8DjvIBctVkj47z2h3H859X4brN8nb185zuWCUB8c3p\n"
          ]
        }
      ]
    },
    {
      "cell_type": "markdown",
      "source": [
        "Finalmente la conexión a la API por medio de las Key y carga del archivo (post)"
      ],
      "metadata": {
        "id": "kXwMS_vSIFCK"
      }
    },
    {
      "cell_type": "code",
      "source": [
        "upload_folder_id = \"\"\n",
        "json_response=\"\"\n",
        "with open(\"tmp/dfReporteCompraVentaEnergiaAcme.csv\", \"rb\") as archivo:\n",
        "  files = {\"upload_file\": (archivo.name, archivo)}  # Create a dictionary for the file upload\n",
        "\n",
        "  data = {\n",
        "    \"access_token\": file_upload_access_token,\n",
        "    \"account_id\": file_upload_account_id,\n",
        "    \"folder_id\": upload_folder_id  # Include folder_id if provided\n",
        "  }\n",
        "\n",
        "  response = requests.post(\"https://fastupload.io/api/v2/file/upload\", files=files, data=data)\n",
        "\n",
        "print(response.text)"
      ],
      "metadata": {
        "colab": {
          "base_uri": "https://localhost:8080/"
        },
        "id": "7Lu7SScnF-lU",
        "outputId": "329194c4-ce52-464d-9a0d-9ed69f7fe196"
      },
      "execution_count": 42,
      "outputs": [
        {
          "output_type": "stream",
          "name": "stdout",
          "text": [
            "{\"response\":\"File uploaded\",\"data\":[{\"name\":\"dfReporteCompraVentaEnergiaAcme (3).csv\",\"size\":342,\"type\":\"application\\/octet-stream\",\"error\":null,\"url\":\"https:\\/\\/fastupload.io\\/eda68a5857c3465e\",\"delete_url\":\"https:\\/\\/fastupload.io\\/eda68a5857c3465e~d?c8f6767169fe76f30b47c7d4a7ed7321\",\"info_url\":\"https:\\/\\/fastupload.io\\/eda68a5857c3465e~i\",\"delete_type\":\"DELETE\",\"delete_hash\":\"c8f6767169fe76f30b47c7d4a7ed7321\",\"hash\":\"94f88bd605991fa72ea7751ae465407a\",\"stats_url\":\"https:\\/\\/fastupload.io\\/eda68a5857c3465e~s\",\"short_url\":\"eda68a5857c3465e\",\"file_id\":\"665876\",\"unique_hash\":\"b93530f4e0ec1da81d4c1b666da050a4552a803c524d7304339686355c0a04d8\",\"url_html\":\"&lt;a href=&quot;https:\\/\\/fastupload.io\\/eda68a5857c3465e&quot; target=&quot;_blank&quot; title=&quot;View image on Fastupload.io&quot;&gt;View dfReporteCompraVentaEnergiaAcme (3).csv on Fastupload.io&lt;\\/a&gt;\",\"url_bbcode\":\"[url]https:\\/\\/fastupload.io\\/eda68a5857c3465e[\\/url]\",\"success_result_html\":\"\"}],\"_status\":\"success\",\"_datetime\":\"2024-09-08 01:09:02\"}\n"
          ]
        }
      ]
    }
  ]
}